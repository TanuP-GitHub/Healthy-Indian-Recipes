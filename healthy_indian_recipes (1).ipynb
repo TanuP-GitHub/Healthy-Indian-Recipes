{
  "cells": [
    {
      "cell_type": "code",
      "execution_count": 1,
      "metadata": {
        "id": "hTJBucnQqao1",
        "colab": {
          "base_uri": "https://localhost:8080/"
        },
        "outputId": "d0f62baf-3aaf-4de7-b7b8-6e0b4f2ffc49"
      },
      "outputs": [
        {
          "output_type": "stream",
          "name": "stdout",
          "text": [
            "\u001b[2K     \u001b[90m━━━━━━━━━━━━━━━━━━━━━━━━━━━━━━━━━━━━━━━━\u001b[0m \u001b[32m320.6/320.6 kB\u001b[0m \u001b[31m5.0 MB/s\u001b[0m eta \u001b[36m0:00:00\u001b[0m\n",
            "\u001b[2K     \u001b[90m━━━━━━━━━━━━━━━━━━━━━━━━━━━━━━━━━━━━━━━━\u001b[0m \u001b[32m75.6/75.6 kB\u001b[0m \u001b[31m8.0 MB/s\u001b[0m eta \u001b[36m0:00:00\u001b[0m\n",
            "\u001b[2K     \u001b[90m━━━━━━━━━━━━━━━━━━━━━━━━━━━━━━━━━━━━━━━━\u001b[0m \u001b[32m77.9/77.9 kB\u001b[0m \u001b[31m6.1 MB/s\u001b[0m eta \u001b[36m0:00:00\u001b[0m\n",
            "\u001b[2K     \u001b[90m━━━━━━━━━━━━━━━━━━━━━━━━━━━━━━━━━━━━━━━━\u001b[0m \u001b[32m58.3/58.3 kB\u001b[0m \u001b[31m5.6 MB/s\u001b[0m eta \u001b[36m0:00:00\u001b[0m\n",
            "\u001b[?25h"
          ]
        }
      ],
      "source": [
        "# Lets install all the required libraries\n",
        "#Install OpenAI library\n",
        "!pip install -U -q openai tenacity"
      ]
    },
    {
      "cell_type": "code",
      "execution_count": 2,
      "metadata": {
        "colab": {
          "base_uri": "https://localhost:8080/"
        },
        "id": "ZXlOJYhoGJBx",
        "outputId": "4bd828e8-8109-4415-9efd-2cb6dd4cfeb5"
      },
      "outputs": [
        {
          "output_type": "stream",
          "name": "stdout",
          "text": [
            "Collecting openai==0.28\n",
            "  Downloading openai-0.28.0-py3-none-any.whl (76 kB)\n",
            "\u001b[?25l     \u001b[90m━━━━━━━━━━━━━━━━━━━━━━━━━━━━━━━━━━━━━━━━\u001b[0m \u001b[32m0.0/76.5 kB\u001b[0m \u001b[31m?\u001b[0m eta \u001b[36m-:--:--\u001b[0m\r\u001b[2K     \u001b[90m━━━━━━━━━━━━━━━━━━━━━━━━━━━━━━━━━━━━━━━━\u001b[0m \u001b[32m76.5/76.5 kB\u001b[0m \u001b[31m2.2 MB/s\u001b[0m eta \u001b[36m0:00:00\u001b[0m\n",
            "\u001b[?25hRequirement already satisfied: requests>=2.20 in /usr/local/lib/python3.10/dist-packages (from openai==0.28) (2.31.0)\n",
            "Requirement already satisfied: tqdm in /usr/local/lib/python3.10/dist-packages (from openai==0.28) (4.66.4)\n",
            "Requirement already satisfied: aiohttp in /usr/local/lib/python3.10/dist-packages (from openai==0.28) (3.9.5)\n",
            "Requirement already satisfied: charset-normalizer<4,>=2 in /usr/local/lib/python3.10/dist-packages (from requests>=2.20->openai==0.28) (3.3.2)\n",
            "Requirement already satisfied: idna<4,>=2.5 in /usr/local/lib/python3.10/dist-packages (from requests>=2.20->openai==0.28) (3.7)\n",
            "Requirement already satisfied: urllib3<3,>=1.21.1 in /usr/local/lib/python3.10/dist-packages (from requests>=2.20->openai==0.28) (2.0.7)\n",
            "Requirement already satisfied: certifi>=2017.4.17 in /usr/local/lib/python3.10/dist-packages (from requests>=2.20->openai==0.28) (2024.2.2)\n",
            "Requirement already satisfied: aiosignal>=1.1.2 in /usr/local/lib/python3.10/dist-packages (from aiohttp->openai==0.28) (1.3.1)\n",
            "Requirement already satisfied: attrs>=17.3.0 in /usr/local/lib/python3.10/dist-packages (from aiohttp->openai==0.28) (23.2.0)\n",
            "Requirement already satisfied: frozenlist>=1.1.1 in /usr/local/lib/python3.10/dist-packages (from aiohttp->openai==0.28) (1.4.1)\n",
            "Requirement already satisfied: multidict<7.0,>=4.5 in /usr/local/lib/python3.10/dist-packages (from aiohttp->openai==0.28) (6.0.5)\n",
            "Requirement already satisfied: yarl<2.0,>=1.0 in /usr/local/lib/python3.10/dist-packages (from aiohttp->openai==0.28) (1.9.4)\n",
            "Requirement already satisfied: async-timeout<5.0,>=4.0 in /usr/local/lib/python3.10/dist-packages (from aiohttp->openai==0.28) (4.0.3)\n",
            "Installing collected packages: openai\n",
            "  Attempting uninstall: openai\n",
            "    Found existing installation: openai 1.30.1\n",
            "    Uninstalling openai-1.30.1:\n",
            "      Successfully uninstalled openai-1.30.1\n",
            "Successfully installed openai-0.28.0\n"
          ]
        }
      ],
      "source": [
        "!pip install openai==0.28"
      ]
    },
    {
      "cell_type": "code",
      "execution_count": 3,
      "metadata": {
        "id": "N6eMqOI9rSwM"
      },
      "outputs": [],
      "source": [
        "import pandas as pd\n",
        "import numpy as np\n",
        "import matplotlib.pyplot as plt\n",
        "import seaborn as sns"
      ]
    },
    {
      "cell_type": "code",
      "execution_count": 4,
      "metadata": {
        "colab": {
          "base_uri": "https://localhost:8080/"
        },
        "id": "I1OZhzDBql84",
        "outputId": "3d136d5b-bb24-4c83-f4f3-0c4029110cbc"
      },
      "outputs": [
        {
          "output_type": "stream",
          "name": "stdout",
          "text": [
            "Drive already mounted at /content/drive; to attempt to forcibly remount, call drive.mount(\"/content/drive\", force_remount=True).\n"
          ]
        }
      ],
      "source": [
        "from google.colab import drive\n",
        "drive.mount('/content/drive')"
      ]
    },
    {
      "cell_type": "code",
      "execution_count": 5,
      "metadata": {
        "id": "-xyb1MPor1Rg"
      },
      "outputs": [],
      "source": [
        "# read the file from drive\n",
        "file_path = '/content/drive/My Drive/IndianHealthyRecipe.csv'\n",
        "\n",
        "# Read the CSV file into a Pandas DataFrame\n",
        "df = pd.read_csv(file_path)\n"
      ]
    },
    {
      "cell_type": "code",
      "execution_count": 6,
      "metadata": {
        "colab": {
          "base_uri": "https://localhost:8080/",
          "height": 310
        },
        "id": "n_qlFoQdt74W",
        "outputId": "6217afa4-0a57-4ef0-a89f-98c1e4aa1e60"
      },
      "outputs": [
        {
          "output_type": "execute_result",
          "data": {
            "text/plain": [
              "               Dish Name                               Description   Spice  \\\n",
              "0      Pistachio chicken  Mild chicken in a creamy pistachio sauce    mild   \n",
              "1       Tangy Fried Okra                       Bhindi with Amchoor  medium   \n",
              "2  Healthy Chicken Korma            Chicken in Creamy Almond Sauce    mild   \n",
              "3      Brown Lentil Dhal                      Sabut Masoor di Dhal  medium   \n",
              "4     Thari Wala Chicken                     Healthy Chicken Curry  medium   \n",
              "\n",
              "      Prep Time   Views  Rating  Number of Votes  Serves       Dietary Info  \\\n",
              "0  Prep 10 mins   11604     4.1             18.0     4.0  ['CONTAINS-NUTS']   \n",
              "1  Prep 10 mins   49899     4.6             35.0     4.0     ['VEGETARIAN']   \n",
              "2  Prep 10 mins  115569     3.6            163.0     4.0  ['CONTAINS-NUTS']   \n",
              "3  Prep 10 mins  146798     3.7             87.0     4.0     ['VEGETARIAN']   \n",
              "4  Prep 10 mins  262696     3.5            343.0     4.0   ['LACTOSE-FREE']   \n",
              "\n",
              "  Cook Time                                        Ingredients  \\\n",
              "0   30 mins  1) 600g chicken thighs, cut into chunks\\n2) 10...   \n",
              "1   15 mins  1) 500g okra\\n2) 3 tbsp mustard oil\\n3) 1 onio...   \n",
              "2   20 mins  1) 6-8 tbsp natural yoghurt\\n2) 1 tsp turmeric...   \n",
              "3   20 mins    1) 200g brown lentils\\n2) Approx. 1L of water\\n   \n",
              "4   40 mins  1) 8 pieces of chicken (4 legs cut into thigh ...   \n",
              "\n",
              "                                        Instructions  \n",
              "0  1) Boil enough water to cover the pistachios, ...  \n",
              "1  1) Wash and thoroughly dry the okra (kitchen r...  \n",
              "2  1) Grind your whole spices in a spice grinder....  \n",
              "3  1) Place the lentils in the pressure cooker wi...  \n",
              "4  1) Skin the chicken, removing any excess fat.\\...  "
            ],
            "text/html": [
              "\n",
              "  <div id=\"df-0317d173-185a-45b3-b7d8-b5a181d7fa20\" class=\"colab-df-container\">\n",
              "    <div>\n",
              "<style scoped>\n",
              "    .dataframe tbody tr th:only-of-type {\n",
              "        vertical-align: middle;\n",
              "    }\n",
              "\n",
              "    .dataframe tbody tr th {\n",
              "        vertical-align: top;\n",
              "    }\n",
              "\n",
              "    .dataframe thead th {\n",
              "        text-align: right;\n",
              "    }\n",
              "</style>\n",
              "<table border=\"1\" class=\"dataframe\">\n",
              "  <thead>\n",
              "    <tr style=\"text-align: right;\">\n",
              "      <th></th>\n",
              "      <th>Dish Name</th>\n",
              "      <th>Description</th>\n",
              "      <th>Spice</th>\n",
              "      <th>Prep Time</th>\n",
              "      <th>Views</th>\n",
              "      <th>Rating</th>\n",
              "      <th>Number of Votes</th>\n",
              "      <th>Serves</th>\n",
              "      <th>Dietary Info</th>\n",
              "      <th>Cook Time</th>\n",
              "      <th>Ingredients</th>\n",
              "      <th>Instructions</th>\n",
              "    </tr>\n",
              "  </thead>\n",
              "  <tbody>\n",
              "    <tr>\n",
              "      <th>0</th>\n",
              "      <td>Pistachio chicken</td>\n",
              "      <td>Mild chicken in a creamy pistachio sauce</td>\n",
              "      <td>mild</td>\n",
              "      <td>Prep 10 mins</td>\n",
              "      <td>11604</td>\n",
              "      <td>4.1</td>\n",
              "      <td>18.0</td>\n",
              "      <td>4.0</td>\n",
              "      <td>['CONTAINS-NUTS']</td>\n",
              "      <td>30 mins</td>\n",
              "      <td>1) 600g chicken thighs, cut into chunks\\n2) 10...</td>\n",
              "      <td>1) Boil enough water to cover the pistachios, ...</td>\n",
              "    </tr>\n",
              "    <tr>\n",
              "      <th>1</th>\n",
              "      <td>Tangy Fried Okra</td>\n",
              "      <td>Bhindi with Amchoor</td>\n",
              "      <td>medium</td>\n",
              "      <td>Prep 10 mins</td>\n",
              "      <td>49899</td>\n",
              "      <td>4.6</td>\n",
              "      <td>35.0</td>\n",
              "      <td>4.0</td>\n",
              "      <td>['VEGETARIAN']</td>\n",
              "      <td>15 mins</td>\n",
              "      <td>1) 500g okra\\n2) 3 tbsp mustard oil\\n3) 1 onio...</td>\n",
              "      <td>1) Wash and thoroughly dry the okra (kitchen r...</td>\n",
              "    </tr>\n",
              "    <tr>\n",
              "      <th>2</th>\n",
              "      <td>Healthy Chicken Korma</td>\n",
              "      <td>Chicken in Creamy Almond Sauce</td>\n",
              "      <td>mild</td>\n",
              "      <td>Prep 10 mins</td>\n",
              "      <td>115569</td>\n",
              "      <td>3.6</td>\n",
              "      <td>163.0</td>\n",
              "      <td>4.0</td>\n",
              "      <td>['CONTAINS-NUTS']</td>\n",
              "      <td>20 mins</td>\n",
              "      <td>1) 6-8 tbsp natural yoghurt\\n2) 1 tsp turmeric...</td>\n",
              "      <td>1) Grind your whole spices in a spice grinder....</td>\n",
              "    </tr>\n",
              "    <tr>\n",
              "      <th>3</th>\n",
              "      <td>Brown Lentil Dhal</td>\n",
              "      <td>Sabut Masoor di Dhal</td>\n",
              "      <td>medium</td>\n",
              "      <td>Prep 10 mins</td>\n",
              "      <td>146798</td>\n",
              "      <td>3.7</td>\n",
              "      <td>87.0</td>\n",
              "      <td>4.0</td>\n",
              "      <td>['VEGETARIAN']</td>\n",
              "      <td>20 mins</td>\n",
              "      <td>1) 200g brown lentils\\n2) Approx. 1L of water\\n</td>\n",
              "      <td>1) Place the lentils in the pressure cooker wi...</td>\n",
              "    </tr>\n",
              "    <tr>\n",
              "      <th>4</th>\n",
              "      <td>Thari Wala Chicken</td>\n",
              "      <td>Healthy Chicken Curry</td>\n",
              "      <td>medium</td>\n",
              "      <td>Prep 10 mins</td>\n",
              "      <td>262696</td>\n",
              "      <td>3.5</td>\n",
              "      <td>343.0</td>\n",
              "      <td>4.0</td>\n",
              "      <td>['LACTOSE-FREE']</td>\n",
              "      <td>40 mins</td>\n",
              "      <td>1) 8 pieces of chicken (4 legs cut into thigh ...</td>\n",
              "      <td>1) Skin the chicken, removing any excess fat.\\...</td>\n",
              "    </tr>\n",
              "  </tbody>\n",
              "</table>\n",
              "</div>\n",
              "    <div class=\"colab-df-buttons\">\n",
              "\n",
              "  <div class=\"colab-df-container\">\n",
              "    <button class=\"colab-df-convert\" onclick=\"convertToInteractive('df-0317d173-185a-45b3-b7d8-b5a181d7fa20')\"\n",
              "            title=\"Convert this dataframe to an interactive table.\"\n",
              "            style=\"display:none;\">\n",
              "\n",
              "  <svg xmlns=\"http://www.w3.org/2000/svg\" height=\"24px\" viewBox=\"0 -960 960 960\">\n",
              "    <path d=\"M120-120v-720h720v720H120Zm60-500h600v-160H180v160Zm220 220h160v-160H400v160Zm0 220h160v-160H400v160ZM180-400h160v-160H180v160Zm440 0h160v-160H620v160ZM180-180h160v-160H180v160Zm440 0h160v-160H620v160Z\"/>\n",
              "  </svg>\n",
              "    </button>\n",
              "\n",
              "  <style>\n",
              "    .colab-df-container {\n",
              "      display:flex;\n",
              "      gap: 12px;\n",
              "    }\n",
              "\n",
              "    .colab-df-convert {\n",
              "      background-color: #E8F0FE;\n",
              "      border: none;\n",
              "      border-radius: 50%;\n",
              "      cursor: pointer;\n",
              "      display: none;\n",
              "      fill: #1967D2;\n",
              "      height: 32px;\n",
              "      padding: 0 0 0 0;\n",
              "      width: 32px;\n",
              "    }\n",
              "\n",
              "    .colab-df-convert:hover {\n",
              "      background-color: #E2EBFA;\n",
              "      box-shadow: 0px 1px 2px rgba(60, 64, 67, 0.3), 0px 1px 3px 1px rgba(60, 64, 67, 0.15);\n",
              "      fill: #174EA6;\n",
              "    }\n",
              "\n",
              "    .colab-df-buttons div {\n",
              "      margin-bottom: 4px;\n",
              "    }\n",
              "\n",
              "    [theme=dark] .colab-df-convert {\n",
              "      background-color: #3B4455;\n",
              "      fill: #D2E3FC;\n",
              "    }\n",
              "\n",
              "    [theme=dark] .colab-df-convert:hover {\n",
              "      background-color: #434B5C;\n",
              "      box-shadow: 0px 1px 3px 1px rgba(0, 0, 0, 0.15);\n",
              "      filter: drop-shadow(0px 1px 2px rgba(0, 0, 0, 0.3));\n",
              "      fill: #FFFFFF;\n",
              "    }\n",
              "  </style>\n",
              "\n",
              "    <script>\n",
              "      const buttonEl =\n",
              "        document.querySelector('#df-0317d173-185a-45b3-b7d8-b5a181d7fa20 button.colab-df-convert');\n",
              "      buttonEl.style.display =\n",
              "        google.colab.kernel.accessAllowed ? 'block' : 'none';\n",
              "\n",
              "      async function convertToInteractive(key) {\n",
              "        const element = document.querySelector('#df-0317d173-185a-45b3-b7d8-b5a181d7fa20');\n",
              "        const dataTable =\n",
              "          await google.colab.kernel.invokeFunction('convertToInteractive',\n",
              "                                                    [key], {});\n",
              "        if (!dataTable) return;\n",
              "\n",
              "        const docLinkHtml = 'Like what you see? Visit the ' +\n",
              "          '<a target=\"_blank\" href=https://colab.research.google.com/notebooks/data_table.ipynb>data table notebook</a>'\n",
              "          + ' to learn more about interactive tables.';\n",
              "        element.innerHTML = '';\n",
              "        dataTable['output_type'] = 'display_data';\n",
              "        await google.colab.output.renderOutput(dataTable, element);\n",
              "        const docLink = document.createElement('div');\n",
              "        docLink.innerHTML = docLinkHtml;\n",
              "        element.appendChild(docLink);\n",
              "      }\n",
              "    </script>\n",
              "  </div>\n",
              "\n",
              "\n",
              "<div id=\"df-960a42a7-6e7a-4e26-a386-a91a236b69d2\">\n",
              "  <button class=\"colab-df-quickchart\" onclick=\"quickchart('df-960a42a7-6e7a-4e26-a386-a91a236b69d2')\"\n",
              "            title=\"Suggest charts\"\n",
              "            style=\"display:none;\">\n",
              "\n",
              "<svg xmlns=\"http://www.w3.org/2000/svg\" height=\"24px\"viewBox=\"0 0 24 24\"\n",
              "     width=\"24px\">\n",
              "    <g>\n",
              "        <path d=\"M19 3H5c-1.1 0-2 .9-2 2v14c0 1.1.9 2 2 2h14c1.1 0 2-.9 2-2V5c0-1.1-.9-2-2-2zM9 17H7v-7h2v7zm4 0h-2V7h2v10zm4 0h-2v-4h2v4z\"/>\n",
              "    </g>\n",
              "</svg>\n",
              "  </button>\n",
              "\n",
              "<style>\n",
              "  .colab-df-quickchart {\n",
              "      --bg-color: #E8F0FE;\n",
              "      --fill-color: #1967D2;\n",
              "      --hover-bg-color: #E2EBFA;\n",
              "      --hover-fill-color: #174EA6;\n",
              "      --disabled-fill-color: #AAA;\n",
              "      --disabled-bg-color: #DDD;\n",
              "  }\n",
              "\n",
              "  [theme=dark] .colab-df-quickchart {\n",
              "      --bg-color: #3B4455;\n",
              "      --fill-color: #D2E3FC;\n",
              "      --hover-bg-color: #434B5C;\n",
              "      --hover-fill-color: #FFFFFF;\n",
              "      --disabled-bg-color: #3B4455;\n",
              "      --disabled-fill-color: #666;\n",
              "  }\n",
              "\n",
              "  .colab-df-quickchart {\n",
              "    background-color: var(--bg-color);\n",
              "    border: none;\n",
              "    border-radius: 50%;\n",
              "    cursor: pointer;\n",
              "    display: none;\n",
              "    fill: var(--fill-color);\n",
              "    height: 32px;\n",
              "    padding: 0;\n",
              "    width: 32px;\n",
              "  }\n",
              "\n",
              "  .colab-df-quickchart:hover {\n",
              "    background-color: var(--hover-bg-color);\n",
              "    box-shadow: 0 1px 2px rgba(60, 64, 67, 0.3), 0 1px 3px 1px rgba(60, 64, 67, 0.15);\n",
              "    fill: var(--button-hover-fill-color);\n",
              "  }\n",
              "\n",
              "  .colab-df-quickchart-complete:disabled,\n",
              "  .colab-df-quickchart-complete:disabled:hover {\n",
              "    background-color: var(--disabled-bg-color);\n",
              "    fill: var(--disabled-fill-color);\n",
              "    box-shadow: none;\n",
              "  }\n",
              "\n",
              "  .colab-df-spinner {\n",
              "    border: 2px solid var(--fill-color);\n",
              "    border-color: transparent;\n",
              "    border-bottom-color: var(--fill-color);\n",
              "    animation:\n",
              "      spin 1s steps(1) infinite;\n",
              "  }\n",
              "\n",
              "  @keyframes spin {\n",
              "    0% {\n",
              "      border-color: transparent;\n",
              "      border-bottom-color: var(--fill-color);\n",
              "      border-left-color: var(--fill-color);\n",
              "    }\n",
              "    20% {\n",
              "      border-color: transparent;\n",
              "      border-left-color: var(--fill-color);\n",
              "      border-top-color: var(--fill-color);\n",
              "    }\n",
              "    30% {\n",
              "      border-color: transparent;\n",
              "      border-left-color: var(--fill-color);\n",
              "      border-top-color: var(--fill-color);\n",
              "      border-right-color: var(--fill-color);\n",
              "    }\n",
              "    40% {\n",
              "      border-color: transparent;\n",
              "      border-right-color: var(--fill-color);\n",
              "      border-top-color: var(--fill-color);\n",
              "    }\n",
              "    60% {\n",
              "      border-color: transparent;\n",
              "      border-right-color: var(--fill-color);\n",
              "    }\n",
              "    80% {\n",
              "      border-color: transparent;\n",
              "      border-right-color: var(--fill-color);\n",
              "      border-bottom-color: var(--fill-color);\n",
              "    }\n",
              "    90% {\n",
              "      border-color: transparent;\n",
              "      border-bottom-color: var(--fill-color);\n",
              "    }\n",
              "  }\n",
              "</style>\n",
              "\n",
              "  <script>\n",
              "    async function quickchart(key) {\n",
              "      const quickchartButtonEl =\n",
              "        document.querySelector('#' + key + ' button');\n",
              "      quickchartButtonEl.disabled = true;  // To prevent multiple clicks.\n",
              "      quickchartButtonEl.classList.add('colab-df-spinner');\n",
              "      try {\n",
              "        const charts = await google.colab.kernel.invokeFunction(\n",
              "            'suggestCharts', [key], {});\n",
              "      } catch (error) {\n",
              "        console.error('Error during call to suggestCharts:', error);\n",
              "      }\n",
              "      quickchartButtonEl.classList.remove('colab-df-spinner');\n",
              "      quickchartButtonEl.classList.add('colab-df-quickchart-complete');\n",
              "    }\n",
              "    (() => {\n",
              "      let quickchartButtonEl =\n",
              "        document.querySelector('#df-960a42a7-6e7a-4e26-a386-a91a236b69d2 button');\n",
              "      quickchartButtonEl.style.display =\n",
              "        google.colab.kernel.accessAllowed ? 'block' : 'none';\n",
              "    })();\n",
              "  </script>\n",
              "</div>\n",
              "\n",
              "    </div>\n",
              "  </div>\n"
            ],
            "application/vnd.google.colaboratory.intrinsic+json": {
              "type": "dataframe",
              "variable_name": "df",
              "summary": "{\n  \"name\": \"df\",\n  \"rows\": 149,\n  \"fields\": [\n    {\n      \"column\": \"Dish Name\",\n      \"properties\": {\n        \"dtype\": \"string\",\n        \"num_unique_values\": 149,\n        \"samples\": [\n          \"Masala Gosht\",\n          \"Aloo Muttar\",\n          \"Sholay\"\n        ],\n        \"semantic_type\": \"\",\n        \"description\": \"\"\n      }\n    },\n    {\n      \"column\": \"Description\",\n      \"properties\": {\n        \"dtype\": \"string\",\n        \"num_unique_values\": 144,\n        \"samples\": [\n          \"Aubergine Pate\",\n          \"Black eyed bean and bamboo shoot stew\",\n          \"Kashmiri Gucchi Pilau\"\n        ],\n        \"semantic_type\": \"\",\n        \"description\": \"\"\n      }\n    },\n    {\n      \"column\": \"Spice\",\n      \"properties\": {\n        \"dtype\": \"category\",\n        \"num_unique_values\": 4,\n        \"samples\": [\n          \"medium\",\n          \"none\",\n          \"mild\"\n        ],\n        \"semantic_type\": \"\",\n        \"description\": \"\"\n      }\n    },\n    {\n      \"column\": \"Prep Time\",\n      \"properties\": {\n        \"dtype\": \"category\",\n        \"num_unique_values\": 12,\n        \"samples\": [\n          \"Prep 12 hrs\",\n          \"Prep 1 hr 30 mins\",\n          \"Prep 10 mins\"\n        ],\n        \"semantic_type\": \"\",\n        \"description\": \"\"\n      }\n    },\n    {\n      \"column\": \"Views\",\n      \"properties\": {\n        \"dtype\": \"number\",\n        \"std\": 82521,\n        \"min\": 3981,\n        \"max\": 596269,\n        \"num_unique_values\": 149,\n        \"samples\": [\n          96424,\n          65456,\n          98426\n        ],\n        \"semantic_type\": \"\",\n        \"description\": \"\"\n      }\n    },\n    {\n      \"column\": \"Rating\",\n      \"properties\": {\n        \"dtype\": \"number\",\n        \"std\": 0.5614424880001168,\n        \"min\": 0.0,\n        \"max\": 5.0,\n        \"num_unique_values\": 22,\n        \"samples\": [\n          4.1,\n          4.5,\n          4.3\n        ],\n        \"semantic_type\": \"\",\n        \"description\": \"\"\n      }\n    },\n    {\n      \"column\": \"Number of Votes\",\n      \"properties\": {\n        \"dtype\": \"number\",\n        \"std\": 128.7979905682896,\n        \"min\": 0.0,\n        \"max\": 1266.0,\n        \"num_unique_values\": 82,\n        \"samples\": [\n          47.0,\n          18.0,\n          15.0\n        ],\n        \"semantic_type\": \"\",\n        \"description\": \"\"\n      }\n    },\n    {\n      \"column\": \"Serves\",\n      \"properties\": {\n        \"dtype\": \"number\",\n        \"std\": 1.3996591797848417,\n        \"min\": 1.0,\n        \"max\": 12.0,\n        \"num_unique_values\": 6,\n        \"samples\": [\n          4.0,\n          6.0,\n          1.0\n        ],\n        \"semantic_type\": \"\",\n        \"description\": \"\"\n      }\n    },\n    {\n      \"column\": \"Dietary Info\",\n      \"properties\": {\n        \"dtype\": \"category\",\n        \"num_unique_values\": 10,\n        \"samples\": [\n          \"['GLUTEN-FREE']\",\n          \"['VEGETARIAN']\",\n          \"['HEALTHY']\"\n        ],\n        \"semantic_type\": \"\",\n        \"description\": \"\"\n      }\n    },\n    {\n      \"column\": \"Cook Time\",\n      \"properties\": {\n        \"dtype\": \"category\",\n        \"num_unique_values\": 13,\n        \"samples\": [\n          \" 35 mins\",\n          \" 50 mins\",\n          \" 30 mins\"\n        ],\n        \"semantic_type\": \"\",\n        \"description\": \"\"\n      }\n    },\n    {\n      \"column\": \"Ingredients\",\n      \"properties\": {\n        \"dtype\": \"string\",\n        \"num_unique_values\": 148,\n        \"samples\": [\n          \"1) 4 whole peppers, 2 red and 2 green\\n2) 4 medium sized potatoes, boiled and diced\\n3) 1 tsp rapeseed oil\\n4) 1 tsp of salt\\n5) 1 tsp cumin seeds\\n6) 1 green chilli, finely chopped\\n7) 1 tsp garam masala\\n8) 3cm fresh ginger, grated\\n9) 1 tbsp fenugreek leaves\\n10) 1 tbsp fresh coriander, finely chopped\\n\",\n          \"1) 1 tbsp butter\\n2) 1 tsp cumin seeds\\n3) \\u00bd tsp mustard seeds\\n4) 4 green chillies, finely chopped\\n5) 4cm piece root ginger\\n6) \\u00bd tsp turmeric\\n7) 500g summer greens, shredded\\n8) 100g peas / blanched broad beans\\n9) 1 lemon\\n10) 2 tbsp coconut, grated\\n11) 1 tsp garam masala\\n\",\n          \"1) 600g leg of lamb (washed, trimmed & cubed)\\n\"\n        ],\n        \"semantic_type\": \"\",\n        \"description\": \"\"\n      }\n    },\n    {\n      \"column\": \"Instructions\",\n      \"properties\": {\n        \"dtype\": \"string\",\n        \"num_unique_values\": 148,\n        \"samples\": [\n          \"1) Cook the potatoes gently with the skin on (do not boil too vigorously) for 20-25 minutes. Once soft leave to cool and then peel. Cut into small cubes and place into a large bowl.\\n2) In a small frying pan heat the oil and fry the cumin seeds. When sizzling and aromatic remove and add to the potatoes.\\n3) Next add the salt, chilli, garam masala, fenugreek, ginger and fresh coriander to the potatoes and stir - check seasoning.\\n\",\n          \"1) Heat the butter in a large non-stick pan or wok, sizzle the cumin and mustard seeds until fragrant, then add the chilli, ginger and turmeric.\\n2) Fry until aromatic, then add the greens, a pinch of salt, a splash of water and the peas or broad beans.\\n3) Cook for 4-5 mins until the greens have wilted.\\n4) Add a squeeze of lemon juice, garam masala and the coconut, then toss everything together to serve.\\n\",\n          \"1) Heat the oil in a heavy based pan and add the onions, after a few minutes stir in the chopped garlic.\\n2) Cook on a gentle heat so the onions cook to a dark golden brown. This will take at least 20 minutes. If the onions catch on the pan add a splash of water and stir.\\n3) Reduce the heat and add the tomatoes, ginger, salt, cumin, turmeric, chilli, coriander stalks and fenugreek. Stir together and increase the heat so the onions and tomatoes melt with the spices creating a thick aromatic masala sauce. This will take about 5-10 minutes.\\n4) Add the lamb and stir-fry to seal the meat and coat with the masala sauce.\\n5) Reduce the heat to the lowest setting and move the pan to the smallest hob. Place the lid on the pan and allow the lamb to cook gently in it own juices. This will take between 40-60 minutes. Stir occasionally until tender.\\n6) If you want more of a gravy add some boiling water and leave to simmer for another few minutes.\\n7) Remove from the heat and add the garam masala, sprinkle with the fresh coriander and serve.\\n\"\n        ],\n        \"semantic_type\": \"\",\n        \"description\": \"\"\n      }\n    }\n  ]\n}"
            }
          },
          "metadata": {},
          "execution_count": 6
        }
      ],
      "source": [
        "df.head()"
      ]
    },
    {
      "cell_type": "code",
      "execution_count": 7,
      "metadata": {
        "colab": {
          "base_uri": "https://localhost:8080/"
        },
        "id": "hBQrnNnXuAQH",
        "outputId": "7f0bb60e-a57b-492a-a67d-ea1b0833e906"
      },
      "outputs": [
        {
          "output_type": "stream",
          "name": "stdout",
          "text": [
            "<class 'pandas.core.frame.DataFrame'>\n",
            "RangeIndex: 149 entries, 0 to 148\n",
            "Data columns (total 12 columns):\n",
            " #   Column           Non-Null Count  Dtype  \n",
            "---  ------           --------------  -----  \n",
            " 0   Dish Name        149 non-null    object \n",
            " 1   Description      149 non-null    object \n",
            " 2   Spice            145 non-null    object \n",
            " 3   Prep Time        148 non-null    object \n",
            " 4   Views            149 non-null    int64  \n",
            " 5   Rating           149 non-null    float64\n",
            " 6   Number of Votes  147 non-null    float64\n",
            " 7   Serves           146 non-null    float64\n",
            " 8   Dietary Info     149 non-null    object \n",
            " 9   Cook Time        134 non-null    object \n",
            " 10  Ingredients      149 non-null    object \n",
            " 11  Instructions     149 non-null    object \n",
            "dtypes: float64(3), int64(1), object(8)\n",
            "memory usage: 14.1+ KB\n"
          ]
        }
      ],
      "source": [
        "#lets check the type of data\n",
        "df.info()"
      ]
    },
    {
      "cell_type": "code",
      "execution_count": 8,
      "metadata": {
        "colab": {
          "base_uri": "https://localhost:8080/",
          "height": 300
        },
        "id": "m5cvy9-2yS_y",
        "outputId": "afb87253-fd13-4b39-ef76-ad73f063a069"
      },
      "outputs": [
        {
          "output_type": "execute_result",
          "data": {
            "text/plain": [
              "               Views      Rating  Number of Votes      Serves\n",
              "count     149.000000  149.000000       147.000000  146.000000\n",
              "mean    72516.563758    3.833557        66.761905    4.445205\n",
              "std     82521.553789    0.561442       128.797991    1.399659\n",
              "min      3981.000000    0.000000         0.000000    1.000000\n",
              "25%     28613.000000    3.500000        16.000000    4.000000\n",
              "50%     49854.000000    3.800000        29.000000    4.000000\n",
              "75%     84817.000000    4.100000        68.000000    4.000000\n",
              "max    596269.000000    5.000000      1266.000000   12.000000"
            ],
            "text/html": [
              "\n",
              "  <div id=\"df-c58096ce-00ca-44e9-84e7-852b17116f57\" class=\"colab-df-container\">\n",
              "    <div>\n",
              "<style scoped>\n",
              "    .dataframe tbody tr th:only-of-type {\n",
              "        vertical-align: middle;\n",
              "    }\n",
              "\n",
              "    .dataframe tbody tr th {\n",
              "        vertical-align: top;\n",
              "    }\n",
              "\n",
              "    .dataframe thead th {\n",
              "        text-align: right;\n",
              "    }\n",
              "</style>\n",
              "<table border=\"1\" class=\"dataframe\">\n",
              "  <thead>\n",
              "    <tr style=\"text-align: right;\">\n",
              "      <th></th>\n",
              "      <th>Views</th>\n",
              "      <th>Rating</th>\n",
              "      <th>Number of Votes</th>\n",
              "      <th>Serves</th>\n",
              "    </tr>\n",
              "  </thead>\n",
              "  <tbody>\n",
              "    <tr>\n",
              "      <th>count</th>\n",
              "      <td>149.000000</td>\n",
              "      <td>149.000000</td>\n",
              "      <td>147.000000</td>\n",
              "      <td>146.000000</td>\n",
              "    </tr>\n",
              "    <tr>\n",
              "      <th>mean</th>\n",
              "      <td>72516.563758</td>\n",
              "      <td>3.833557</td>\n",
              "      <td>66.761905</td>\n",
              "      <td>4.445205</td>\n",
              "    </tr>\n",
              "    <tr>\n",
              "      <th>std</th>\n",
              "      <td>82521.553789</td>\n",
              "      <td>0.561442</td>\n",
              "      <td>128.797991</td>\n",
              "      <td>1.399659</td>\n",
              "    </tr>\n",
              "    <tr>\n",
              "      <th>min</th>\n",
              "      <td>3981.000000</td>\n",
              "      <td>0.000000</td>\n",
              "      <td>0.000000</td>\n",
              "      <td>1.000000</td>\n",
              "    </tr>\n",
              "    <tr>\n",
              "      <th>25%</th>\n",
              "      <td>28613.000000</td>\n",
              "      <td>3.500000</td>\n",
              "      <td>16.000000</td>\n",
              "      <td>4.000000</td>\n",
              "    </tr>\n",
              "    <tr>\n",
              "      <th>50%</th>\n",
              "      <td>49854.000000</td>\n",
              "      <td>3.800000</td>\n",
              "      <td>29.000000</td>\n",
              "      <td>4.000000</td>\n",
              "    </tr>\n",
              "    <tr>\n",
              "      <th>75%</th>\n",
              "      <td>84817.000000</td>\n",
              "      <td>4.100000</td>\n",
              "      <td>68.000000</td>\n",
              "      <td>4.000000</td>\n",
              "    </tr>\n",
              "    <tr>\n",
              "      <th>max</th>\n",
              "      <td>596269.000000</td>\n",
              "      <td>5.000000</td>\n",
              "      <td>1266.000000</td>\n",
              "      <td>12.000000</td>\n",
              "    </tr>\n",
              "  </tbody>\n",
              "</table>\n",
              "</div>\n",
              "    <div class=\"colab-df-buttons\">\n",
              "\n",
              "  <div class=\"colab-df-container\">\n",
              "    <button class=\"colab-df-convert\" onclick=\"convertToInteractive('df-c58096ce-00ca-44e9-84e7-852b17116f57')\"\n",
              "            title=\"Convert this dataframe to an interactive table.\"\n",
              "            style=\"display:none;\">\n",
              "\n",
              "  <svg xmlns=\"http://www.w3.org/2000/svg\" height=\"24px\" viewBox=\"0 -960 960 960\">\n",
              "    <path d=\"M120-120v-720h720v720H120Zm60-500h600v-160H180v160Zm220 220h160v-160H400v160Zm0 220h160v-160H400v160ZM180-400h160v-160H180v160Zm440 0h160v-160H620v160ZM180-180h160v-160H180v160Zm440 0h160v-160H620v160Z\"/>\n",
              "  </svg>\n",
              "    </button>\n",
              "\n",
              "  <style>\n",
              "    .colab-df-container {\n",
              "      display:flex;\n",
              "      gap: 12px;\n",
              "    }\n",
              "\n",
              "    .colab-df-convert {\n",
              "      background-color: #E8F0FE;\n",
              "      border: none;\n",
              "      border-radius: 50%;\n",
              "      cursor: pointer;\n",
              "      display: none;\n",
              "      fill: #1967D2;\n",
              "      height: 32px;\n",
              "      padding: 0 0 0 0;\n",
              "      width: 32px;\n",
              "    }\n",
              "\n",
              "    .colab-df-convert:hover {\n",
              "      background-color: #E2EBFA;\n",
              "      box-shadow: 0px 1px 2px rgba(60, 64, 67, 0.3), 0px 1px 3px 1px rgba(60, 64, 67, 0.15);\n",
              "      fill: #174EA6;\n",
              "    }\n",
              "\n",
              "    .colab-df-buttons div {\n",
              "      margin-bottom: 4px;\n",
              "    }\n",
              "\n",
              "    [theme=dark] .colab-df-convert {\n",
              "      background-color: #3B4455;\n",
              "      fill: #D2E3FC;\n",
              "    }\n",
              "\n",
              "    [theme=dark] .colab-df-convert:hover {\n",
              "      background-color: #434B5C;\n",
              "      box-shadow: 0px 1px 3px 1px rgba(0, 0, 0, 0.15);\n",
              "      filter: drop-shadow(0px 1px 2px rgba(0, 0, 0, 0.3));\n",
              "      fill: #FFFFFF;\n",
              "    }\n",
              "  </style>\n",
              "\n",
              "    <script>\n",
              "      const buttonEl =\n",
              "        document.querySelector('#df-c58096ce-00ca-44e9-84e7-852b17116f57 button.colab-df-convert');\n",
              "      buttonEl.style.display =\n",
              "        google.colab.kernel.accessAllowed ? 'block' : 'none';\n",
              "\n",
              "      async function convertToInteractive(key) {\n",
              "        const element = document.querySelector('#df-c58096ce-00ca-44e9-84e7-852b17116f57');\n",
              "        const dataTable =\n",
              "          await google.colab.kernel.invokeFunction('convertToInteractive',\n",
              "                                                    [key], {});\n",
              "        if (!dataTable) return;\n",
              "\n",
              "        const docLinkHtml = 'Like what you see? Visit the ' +\n",
              "          '<a target=\"_blank\" href=https://colab.research.google.com/notebooks/data_table.ipynb>data table notebook</a>'\n",
              "          + ' to learn more about interactive tables.';\n",
              "        element.innerHTML = '';\n",
              "        dataTable['output_type'] = 'display_data';\n",
              "        await google.colab.output.renderOutput(dataTable, element);\n",
              "        const docLink = document.createElement('div');\n",
              "        docLink.innerHTML = docLinkHtml;\n",
              "        element.appendChild(docLink);\n",
              "      }\n",
              "    </script>\n",
              "  </div>\n",
              "\n",
              "\n",
              "<div id=\"df-56992934-c4af-48e3-8151-5cec407bbea1\">\n",
              "  <button class=\"colab-df-quickchart\" onclick=\"quickchart('df-56992934-c4af-48e3-8151-5cec407bbea1')\"\n",
              "            title=\"Suggest charts\"\n",
              "            style=\"display:none;\">\n",
              "\n",
              "<svg xmlns=\"http://www.w3.org/2000/svg\" height=\"24px\"viewBox=\"0 0 24 24\"\n",
              "     width=\"24px\">\n",
              "    <g>\n",
              "        <path d=\"M19 3H5c-1.1 0-2 .9-2 2v14c0 1.1.9 2 2 2h14c1.1 0 2-.9 2-2V5c0-1.1-.9-2-2-2zM9 17H7v-7h2v7zm4 0h-2V7h2v10zm4 0h-2v-4h2v4z\"/>\n",
              "    </g>\n",
              "</svg>\n",
              "  </button>\n",
              "\n",
              "<style>\n",
              "  .colab-df-quickchart {\n",
              "      --bg-color: #E8F0FE;\n",
              "      --fill-color: #1967D2;\n",
              "      --hover-bg-color: #E2EBFA;\n",
              "      --hover-fill-color: #174EA6;\n",
              "      --disabled-fill-color: #AAA;\n",
              "      --disabled-bg-color: #DDD;\n",
              "  }\n",
              "\n",
              "  [theme=dark] .colab-df-quickchart {\n",
              "      --bg-color: #3B4455;\n",
              "      --fill-color: #D2E3FC;\n",
              "      --hover-bg-color: #434B5C;\n",
              "      --hover-fill-color: #FFFFFF;\n",
              "      --disabled-bg-color: #3B4455;\n",
              "      --disabled-fill-color: #666;\n",
              "  }\n",
              "\n",
              "  .colab-df-quickchart {\n",
              "    background-color: var(--bg-color);\n",
              "    border: none;\n",
              "    border-radius: 50%;\n",
              "    cursor: pointer;\n",
              "    display: none;\n",
              "    fill: var(--fill-color);\n",
              "    height: 32px;\n",
              "    padding: 0;\n",
              "    width: 32px;\n",
              "  }\n",
              "\n",
              "  .colab-df-quickchart:hover {\n",
              "    background-color: var(--hover-bg-color);\n",
              "    box-shadow: 0 1px 2px rgba(60, 64, 67, 0.3), 0 1px 3px 1px rgba(60, 64, 67, 0.15);\n",
              "    fill: var(--button-hover-fill-color);\n",
              "  }\n",
              "\n",
              "  .colab-df-quickchart-complete:disabled,\n",
              "  .colab-df-quickchart-complete:disabled:hover {\n",
              "    background-color: var(--disabled-bg-color);\n",
              "    fill: var(--disabled-fill-color);\n",
              "    box-shadow: none;\n",
              "  }\n",
              "\n",
              "  .colab-df-spinner {\n",
              "    border: 2px solid var(--fill-color);\n",
              "    border-color: transparent;\n",
              "    border-bottom-color: var(--fill-color);\n",
              "    animation:\n",
              "      spin 1s steps(1) infinite;\n",
              "  }\n",
              "\n",
              "  @keyframes spin {\n",
              "    0% {\n",
              "      border-color: transparent;\n",
              "      border-bottom-color: var(--fill-color);\n",
              "      border-left-color: var(--fill-color);\n",
              "    }\n",
              "    20% {\n",
              "      border-color: transparent;\n",
              "      border-left-color: var(--fill-color);\n",
              "      border-top-color: var(--fill-color);\n",
              "    }\n",
              "    30% {\n",
              "      border-color: transparent;\n",
              "      border-left-color: var(--fill-color);\n",
              "      border-top-color: var(--fill-color);\n",
              "      border-right-color: var(--fill-color);\n",
              "    }\n",
              "    40% {\n",
              "      border-color: transparent;\n",
              "      border-right-color: var(--fill-color);\n",
              "      border-top-color: var(--fill-color);\n",
              "    }\n",
              "    60% {\n",
              "      border-color: transparent;\n",
              "      border-right-color: var(--fill-color);\n",
              "    }\n",
              "    80% {\n",
              "      border-color: transparent;\n",
              "      border-right-color: var(--fill-color);\n",
              "      border-bottom-color: var(--fill-color);\n",
              "    }\n",
              "    90% {\n",
              "      border-color: transparent;\n",
              "      border-bottom-color: var(--fill-color);\n",
              "    }\n",
              "  }\n",
              "</style>\n",
              "\n",
              "  <script>\n",
              "    async function quickchart(key) {\n",
              "      const quickchartButtonEl =\n",
              "        document.querySelector('#' + key + ' button');\n",
              "      quickchartButtonEl.disabled = true;  // To prevent multiple clicks.\n",
              "      quickchartButtonEl.classList.add('colab-df-spinner');\n",
              "      try {\n",
              "        const charts = await google.colab.kernel.invokeFunction(\n",
              "            'suggestCharts', [key], {});\n",
              "      } catch (error) {\n",
              "        console.error('Error during call to suggestCharts:', error);\n",
              "      }\n",
              "      quickchartButtonEl.classList.remove('colab-df-spinner');\n",
              "      quickchartButtonEl.classList.add('colab-df-quickchart-complete');\n",
              "    }\n",
              "    (() => {\n",
              "      let quickchartButtonEl =\n",
              "        document.querySelector('#df-56992934-c4af-48e3-8151-5cec407bbea1 button');\n",
              "      quickchartButtonEl.style.display =\n",
              "        google.colab.kernel.accessAllowed ? 'block' : 'none';\n",
              "    })();\n",
              "  </script>\n",
              "</div>\n",
              "\n",
              "    </div>\n",
              "  </div>\n"
            ],
            "application/vnd.google.colaboratory.intrinsic+json": {
              "type": "dataframe",
              "summary": "{\n  \"name\": \"df\",\n  \"rows\": 8,\n  \"fields\": [\n    {\n      \"column\": \"Views\",\n      \"properties\": {\n        \"dtype\": \"number\",\n        \"std\": 197344.16523918574,\n        \"min\": 149.0,\n        \"max\": 596269.0,\n        \"num_unique_values\": 8,\n        \"samples\": [\n          72516.56375838927,\n          49854.0,\n          149.0\n        ],\n        \"semantic_type\": \"\",\n        \"description\": \"\"\n      }\n    },\n    {\n      \"column\": \"Rating\",\n      \"properties\": {\n        \"dtype\": \"number\",\n        \"std\": 51.659211104969046,\n        \"min\": 0.0,\n        \"max\": 149.0,\n        \"num_unique_values\": 8,\n        \"samples\": [\n          3.833557046979866,\n          3.8,\n          149.0\n        ],\n        \"semantic_type\": \"\",\n        \"description\": \"\"\n      }\n    },\n    {\n      \"column\": \"Number of Votes\",\n      \"properties\": {\n        \"dtype\": \"number\",\n        \"std\": 427.728387639817,\n        \"min\": 0.0,\n        \"max\": 1266.0,\n        \"num_unique_values\": 8,\n        \"samples\": [\n          66.76190476190476,\n          29.0,\n          147.0\n        ],\n        \"semantic_type\": \"\",\n        \"description\": \"\"\n      }\n    },\n    {\n      \"column\": \"Serves\",\n      \"properties\": {\n        \"dtype\": \"number\",\n        \"std\": 50.1732080298285,\n        \"min\": 1.0,\n        \"max\": 146.0,\n        \"num_unique_values\": 6,\n        \"samples\": [\n          146.0,\n          4.445205479452055,\n          12.0\n        ],\n        \"semantic_type\": \"\",\n        \"description\": \"\"\n      }\n    }\n  ]\n}"
            }
          },
          "metadata": {},
          "execution_count": 8
        }
      ],
      "source": [
        "#lets check the numeric data\n",
        "df.describe()"
      ]
    },
    {
      "cell_type": "markdown",
      "metadata": {
        "id": "7ot-1HURyY-T"
      },
      "source": [
        "2. Data Cleaning"
      ]
    },
    {
      "cell_type": "code",
      "execution_count": 9,
      "metadata": {
        "colab": {
          "base_uri": "https://localhost:8080/"
        },
        "id": "Mq3CV-HQuFUj",
        "outputId": "e5207e86-0e09-4af5-e313-c9243962193e"
      },
      "outputs": [
        {
          "output_type": "stream",
          "name": "stdout",
          "text": [
            "Dish Name           0\n",
            "Description         0\n",
            "Spice               4\n",
            "Prep Time           1\n",
            "Views               0\n",
            "Rating              0\n",
            "Number of Votes     2\n",
            "Serves              3\n",
            "Dietary Info        0\n",
            "Cook Time          15\n",
            "Ingredients         0\n",
            "Instructions        0\n",
            "dtype: int64\n"
          ]
        }
      ],
      "source": [
        "#check whether any null valuepresent\n",
        "print(df.isnull().sum())"
      ]
    },
    {
      "cell_type": "code",
      "execution_count": 10,
      "metadata": {
        "id": "dgAT4cURwXMI"
      },
      "outputs": [],
      "source": [
        "#fill all the null values\n",
        "df[\"Spice\"].fillna(df[\"Spice\"].mode()[0], inplace=True)\n",
        "df[\"Prep Time\"].fillna(df[\"Prep Time\"].mode()[0], inplace=True)\n",
        "df[\"Number of Votes\"].fillna(df[\"Number of Votes\"].median(), inplace=True)\n",
        "df[\"Serves\"].fillna(df[\"Serves\"].median(), inplace=True)\n",
        "df[\"Cook Time\"].fillna(df[\"Cook Time\"].mode()[0], inplace=True)"
      ]
    },
    {
      "cell_type": "code",
      "execution_count": 11,
      "metadata": {
        "colab": {
          "base_uri": "https://localhost:8080/"
        },
        "id": "X3PpPbWFx8Eu",
        "outputId": "0d9db544-e95d-444b-d2ea-b7030e6728e3"
      },
      "outputs": [
        {
          "output_type": "stream",
          "name": "stdout",
          "text": [
            "Dish Name          0\n",
            "Description        0\n",
            "Spice              0\n",
            "Prep Time          0\n",
            "Views              0\n",
            "Rating             0\n",
            "Number of Votes    0\n",
            "Serves             0\n",
            "Dietary Info       0\n",
            "Cook Time          0\n",
            "Ingredients        0\n",
            "Instructions       0\n",
            "dtype: int64\n"
          ]
        }
      ],
      "source": [
        "#recheck , if all null values are filled\n",
        "print(df.isnull().sum())"
      ]
    },
    {
      "cell_type": "code",
      "execution_count": 12,
      "metadata": {
        "colab": {
          "base_uri": "https://localhost:8080/"
        },
        "id": "JfOMzkK1yJIA",
        "outputId": "c2df41c9-2368-49ec-e626-531b7ed6bdb2"
      },
      "outputs": [
        {
          "output_type": "execute_result",
          "data": {
            "text/plain": [
              "Index(['Dish Name', 'Description', 'Spice', 'Prep Time', 'Views', 'Rating',\n",
              "       'Number of Votes', 'Serves', 'Dietary Info', 'Cook Time', 'Ingredients',\n",
              "       'Instructions'],\n",
              "      dtype='object')"
            ]
          },
          "metadata": {},
          "execution_count": 12
        }
      ],
      "source": [
        "df.columns"
      ]
    },
    {
      "cell_type": "markdown",
      "metadata": {
        "id": "zkcKlPv1yjSh"
      },
      "source": [
        "3. Exploratory Data Analysis\n",
        "- lets visualize data for better understanding and selecting important features"
      ]
    },
    {
      "cell_type": "code",
      "execution_count": 13,
      "metadata": {
        "colab": {
          "base_uri": "https://localhost:8080/",
          "height": 564
        },
        "id": "g4p16iu9ym7S",
        "outputId": "4d3a5267-ed3e-4763-e639-3981628b32da"
      },
      "outputs": [
        {
          "output_type": "display_data",
          "data": {
            "text/plain": [
              "<Figure size 1000x600 with 1 Axes>"
            ],
            "image/png": "[encoded data removed]"
          },
          "metadata": {}
        }
      ],
      "source": [
        "# Histogram for numeric variables\n",
        "plt.figure(figsize=(10, 6))\n",
        "plt.hist(df['Views'], bins=5, color='skyblue', edgecolor='black')\n",
        "plt.title('Distribution of Views')\n",
        "plt.xlabel('Views')\n",
        "plt.ylabel('Frequency')\n",
        "plt.show()"
      ]
    },
    {
      "cell_type": "code",
      "execution_count": 14,
      "metadata": {
        "colab": {
          "base_uri": "https://localhost:8080/",
          "height": 564
        },
        "id": "mcY3l_XyzYtq",
        "outputId": "13fd9cc2-20f2-483c-f328-0537edcb9b29"
      },
      "outputs": [
        {
          "output_type": "display_data",
          "data": {
            "text/plain": [
              "<Figure size 1000x600 with 1 Axes>"
            ],
            "image/png": "[encoded data removed]"
          },
          "metadata": {}
        }
      ],
      "source": [
        "# Histogram for numeric variables\n",
        "plt.figure(figsize=(10, 6))\n",
        "plt.hist(df['Rating'], bins=5, color='skyblue', edgecolor='black')\n",
        "plt.title('Distribution of Rating')\n",
        "plt.xlabel('Rating')\n",
        "plt.ylabel('Frequency')\n",
        "plt.show()"
      ]
    },
    {
      "cell_type": "code",
      "execution_count": 15,
      "metadata": {
        "colab": {
          "base_uri": "https://localhost:8080/",
          "height": 564
        },
        "id": "kLv9mNJhzhwV",
        "outputId": "01d0b7fd-c5cb-4cba-b70e-cf14b0631651"
      },
      "outputs": [
        {
          "output_type": "display_data",
          "data": {
            "text/plain": [
              "<Figure size 1000x600 with 1 Axes>"
            ],
            "image/png": "[encoded data removed]"
          },
          "metadata": {}
        }
      ],
      "source": [
        "# Histogram for numeric variables\n",
        "plt.figure(figsize=(10, 6))\n",
        "plt.hist(df['Number of Votes'], bins=5, color='skyblue', edgecolor='black')\n",
        "plt.title('Distribution of No. of Votes')\n",
        "plt.xlabel('No. of Votes')\n",
        "plt.ylabel('Frequency')\n",
        "plt.show()"
      ]
    },
    {
      "cell_type": "code",
      "execution_count": 16,
      "metadata": {
        "colab": {
          "base_uri": "https://localhost:8080/",
          "height": 564
        },
        "id": "Y_Xy8bzCzw3a",
        "outputId": "99410aa4-d449-46da-991a-8b21651d4e5c"
      },
      "outputs": [
        {
          "output_type": "display_data",
          "data": {
            "text/plain": [
              "<Figure size 1000x600 with 1 Axes>"
            ],
            "image/png": "[encoded data removed]"
          },
          "metadata": {}
        }
      ],
      "source": [
        "# Histogram for numeric variables\n",
        "plt.figure(figsize=(10, 6))\n",
        "plt.hist(df['Serves'], bins=5, color='skyblue', edgecolor='black')\n",
        "plt.title('Distribution of Serves')\n",
        "plt.xlabel('Serves')\n",
        "plt.ylabel('Frequency')\n",
        "plt.show()"
      ]
    },
    {
      "cell_type": "code",
      "execution_count": 17,
      "metadata": {
        "colab": {
          "base_uri": "https://localhost:8080/",
          "height": 578
        },
        "id": "WsWHVFiWz46B",
        "outputId": "1fe54fb5-7306-4126-92c6-765132961bf1"
      },
      "outputs": [
        {
          "output_type": "stream",
          "name": "stderr",
          "text": [
            "<ipython-input-17-77be04d79751>:3: FutureWarning: \n",
            "\n",
            "Passing `palette` without assigning `hue` is deprecated and will be removed in v0.14.0. Assign the `x` variable to `hue` and set `legend=False` for the same effect.\n",
            "\n",
            "  sns.countplot(x='Spice', data=df, palette='pastel')\n"
          ]
        },
        {
          "output_type": "display_data",
          "data": {
            "text/plain": [
              "<Figure size 800x500 with 1 Axes>"
            ],
            "image/png": "[encoded data removed]"
          },
          "metadata": {}
        }
      ],
      "source": [
        "# Count plot for categorical variables\n",
        "plt.figure(figsize=(8, 5))\n",
        "sns.countplot(x='Spice', data=df, palette='pastel')\n",
        "plt.title('Distribution of Spice Type')\n",
        "plt.xlabel('Spice Type')\n",
        "plt.ylabel('Count of Recipes')\n",
        "plt.show()"
      ]
    },
    {
      "cell_type": "code",
      "execution_count": 18,
      "metadata": {
        "colab": {
          "base_uri": "https://localhost:8080/",
          "height": 487
        },
        "id": "lUh_EpKZ45vN",
        "outputId": "d71dc9e3-8db6-43b2-b000-20855f785efa"
      },
      "outputs": [
        {
          "output_type": "display_data",
          "data": {
            "text/plain": [
              "<Figure size 800x500 with 1 Axes>"
            ],
            "image/png": "[encoded data removed]"
          },
          "metadata": {}
        }
      ],
      "source": [
        "# Count plot for categorical variables\n",
        "plt.figure(figsize=(8, 5))\n",
        "sns.countplot(x='Prep Time', data=df, palette='pastel', hue ='Prep Time', legend = False)\n",
        "plt.title('Distribution of preparation time')\n",
        "plt.xlabel('Prep Time')\n",
        "plt.ylabel('Count of Recipes')\n",
        "plt.show()\n"
      ]
    },
    {
      "cell_type": "code",
      "execution_count": 19,
      "metadata": {
        "colab": {
          "base_uri": "https://localhost:8080/",
          "height": 487
        },
        "id": "NhqdWY5J5X4k",
        "outputId": "53af219a-5bd3-4340-a2d3-81dfa5f75056"
      },
      "outputs": [
        {
          "output_type": "display_data",
          "data": {
            "text/plain": [
              "<Figure size 800x500 with 1 Axes>"
            ],
            "image/png": "[encoded data removed]"
          },
          "metadata": {}
        }
      ],
      "source": [
        "# Count plot for categorical variables\n",
        "plt.figure(figsize=(8, 5))\n",
        "sns.countplot(x='Cook Time', data=df, palette='pastel', hue = 'Cook Time', legend = False)\n",
        "plt.title('Distribution of Cook Time')\n",
        "plt.xlabel('Cook Time')\n",
        "plt.ylabel('Count of Recipes')\n",
        "plt.show()"
      ]
    },
    {
      "cell_type": "code",
      "execution_count": 20,
      "metadata": {
        "id": "uI4WnHyJGj6h"
      },
      "outputs": [],
      "source": [
        "import json\n",
        "import openai"
      ]
    },
    {
      "cell_type": "code",
      "execution_count": 21,
      "metadata": {
        "colab": {
          "base_uri": "https://localhost:8080/"
        },
        "id": "LMWu-tHbKpyF",
        "outputId": "b2e9d7f4-ca87-46af-a0c9-7536ea8ae6c3"
      },
      "outputs": [
        {
          "output_type": "stream",
          "name": "stdout",
          "text": [
            "Hello! As an artificial intelligence, I don't have personal feelings, but I'm here and ready to help you. How can I assist you today?\n"
          ]
        }
      ],
      "source": [
        "import openai\n",
        "\n",
        "# Specify the file path\n",
        "file_path = '/content/drive/MyDrive/openai_new_key.txt'\n",
        "\n",
        "# Read the API key from the file\n",
        "with open(file_path, 'r') as f:\n",
        "    api_key = f.read().strip()\n",
        "\n",
        "# Set the OpenAI API key\n",
        "openai.api_key = api_key\n",
        "\n",
        "\n",
        "# Example of generating a completion with a chat model\n",
        "response = openai.ChatCompletion.create(\n",
        "    model=\"gpt-4\",  # Replace with a supported chat model name\n",
        "    messages=[\n",
        "        {\"role\": \"system\", \"content\": \"You are a friendly assistant.\"},\n",
        "        {\"role\": \"user\", \"content\": \"Hello, how are you today?\"},\n",
        "    ]\n",
        ")\n",
        "\n",
        "print(response['choices'][0]['message']['content'].strip())\n"
      ]
    },
    {
      "cell_type": "code",
      "execution_count": 22,
      "metadata": {
        "colab": {
          "base_uri": "https://localhost:8080/",
          "height": 614
        },
        "id": "4WVHwIfj6uVY",
        "outputId": "c035d9af-60ae-4a0c-f21a-48f8d954d699"
      },
      "outputs": [
        {
          "output_type": "execute_result",
          "data": {
            "text/plain": [
              "                                     Dish Name                               Description   Spice  \\\n",
              "0                            Pistachio chicken  Mild chicken in a creamy pistachio sauce    mild   \n",
              "1                             Tangy Fried Okra                       Bhindi with Amchoor  medium   \n",
              "2                        Healthy Chicken Korma            Chicken in Creamy Almond Sauce    mild   \n",
              "3                            Brown Lentil Dhal                      Sabut Masoor di Dhal  medium   \n",
              "4                           Thari Wala Chicken                     Healthy Chicken Curry  medium   \n",
              "..                                         ...                                       ...     ...   \n",
              "144  Vegan Wild Rice, Cumin & Chickpea Burgers                        Channa Chaul Tikki  medium   \n",
              "145                            Vegetable Pilau                      Mixed Vegetable Rice  medium   \n",
              "146                  Watermelon and Feta Chaat    Indian Style Watermelon and Feta Salad  medium   \n",
              "147                    Zambezi Baked Sea Bream                         Shama with relish  medium   \n",
              "148                                      Zhoug              Middle Eastern Coriander Dip  medium   \n",
              "\n",
              "        Prep Time   Views  Rating  Number of Votes  Serves       Dietary Info Cook Time  \\\n",
              "0    Prep 10 mins   11604     4.1             18.0     4.0  ['CONTAINS-NUTS']   30 mins   \n",
              "1    Prep 10 mins   49899     4.6             35.0     4.0     ['VEGETARIAN']   15 mins   \n",
              "2    Prep 10 mins  115569     3.6            163.0     4.0  ['CONTAINS-NUTS']   20 mins   \n",
              "3    Prep 10 mins  146798     3.7             87.0     4.0     ['VEGETARIAN']   20 mins   \n",
              "4    Prep 10 mins  262696     3.5            343.0     4.0   ['LACTOSE-FREE']   40 mins   \n",
              "..            ...     ...     ...              ...     ...                ...       ...   \n",
              "144  Prep 10 mins   12641     4.2              9.0     4.0     ['VEGETARIAN']   15 mins   \n",
              "145  Prep 10 mins   69937     4.0             15.0     4.0     ['VEGETARIAN']   20 mins   \n",
              "146  Prep 40 mins   16652     4.4             11.0     6.0     ['VEGETARIAN']   15 mins   \n",
              "147   Prep 5 mins   11808     4.0              7.0     2.0   ['LACTOSE-FREE']   20 mins   \n",
              "148   Prep 5 mins   67834     3.7              3.0     4.0     ['VEGETARIAN']    5 mins   \n",
              "\n",
              "                                           Ingredients  \\\n",
              "0    1) 600g chicken thighs, cut into chunks\\n2) 10...   \n",
              "1    1) 500g okra\\n2) 3 tbsp mustard oil\\n3) 1 onio...   \n",
              "2    1) 6-8 tbsp natural yoghurt\\n2) 1 tsp turmeric...   \n",
              "3      1) 200g brown lentils\\n2) Approx. 1L of water\\n   \n",
              "4    1) 8 pieces of chicken (4 legs cut into thigh ...   \n",
              "..                                                 ...   \n",
              "144  1) 200g cooked and cooled wild rice\\n2) 200g t...   \n",
              "145  1) 50g peas\\n2) 1 carrot (diced small)\\n3) 100...   \n",
              "146  1) 250g atta\\n2) salt pinch\\n3) 1 tsp ajwain\\n...   \n",
              "147  1) 2 whole sea bream (sea bass fillets if you ...   \n",
              "148  1) 4 cloves garlic, roughly chopped\\n2) 2 bunc...   \n",
              "\n",
              "                                          Instructions  \n",
              "0    1) Boil enough water to cover the pistachios, ...  \n",
              "1    1) Wash and thoroughly dry the okra (kitchen r...  \n",
              "2    1) Grind your whole spices in a spice grinder....  \n",
              "3    1) Place the lentils in the pressure cooker wi...  \n",
              "4    1) Skin the chicken, removing any excess fat.\\...  \n",
              "..                                                 ...  \n",
              "144  1) Cook the rice as per the instructions on th...  \n",
              "145  1) Wash the rice until water runs clear and se...  \n",
              "146  1) Add the flour to a bowl and mix in the salt...  \n",
              "147  1) Heat your oven to 180ºC\\n2) Remove any scal...  \n",
              "148  1) Toast the cardamom and cumin until fragrant...  \n",
              "\n",
              "[149 rows x 12 columns]"
            ],
            "text/html": [
              "\n",
              "  <div id=\"df-f3dea392-ee8a-4295-b6c5-945a35c2c28a\" class=\"colab-df-container\">\n",
              "    <div>\n",
              "<style scoped>\n",
              "    .dataframe tbody tr th:only-of-type {\n",
              "        vertical-align: middle;\n",
              "    }\n",
              "\n",
              "    .dataframe tbody tr th {\n",
              "        vertical-align: top;\n",
              "    }\n",
              "\n",
              "    .dataframe thead th {\n",
              "        text-align: right;\n",
              "    }\n",
              "</style>\n",
              "<table border=\"1\" class=\"dataframe\">\n",
              "  <thead>\n",
              "    <tr style=\"text-align: right;\">\n",
              "      <th></th>\n",
              "      <th>Dish Name</th>\n",
              "      <th>Description</th>\n",
              "      <th>Spice</th>\n",
              "      <th>Prep Time</th>\n",
              "      <th>Views</th>\n",
              "      <th>Rating</th>\n",
              "      <th>Number of Votes</th>\n",
              "      <th>Serves</th>\n",
              "      <th>Dietary Info</th>\n",
              "      <th>Cook Time</th>\n",
              "      <th>Ingredients</th>\n",
              "      <th>Instructions</th>\n",
              "    </tr>\n",
              "  </thead>\n",
              "  <tbody>\n",
              "    <tr>\n",
              "      <th>0</th>\n",
              "      <td>Pistachio chicken</td>\n",
              "      <td>Mild chicken in a creamy pistachio sauce</td>\n",
              "      <td>mild</td>\n",
              "      <td>Prep 10 mins</td>\n",
              "      <td>11604</td>\n",
              "      <td>4.1</td>\n",
              "      <td>18.0</td>\n",
              "      <td>4.0</td>\n",
              "      <td>['CONTAINS-NUTS']</td>\n",
              "      <td>30 mins</td>\n",
              "      <td>1) 600g chicken thighs, cut into chunks\\n2) 10...</td>\n",
              "      <td>1) Boil enough water to cover the pistachios, ...</td>\n",
              "    </tr>\n",
              "    <tr>\n",
              "      <th>1</th>\n",
              "      <td>Tangy Fried Okra</td>\n",
              "      <td>Bhindi with Amchoor</td>\n",
              "      <td>medium</td>\n",
              "      <td>Prep 10 mins</td>\n",
              "      <td>49899</td>\n",
              "      <td>4.6</td>\n",
              "      <td>35.0</td>\n",
              "      <td>4.0</td>\n",
              "      <td>['VEGETARIAN']</td>\n",
              "      <td>15 mins</td>\n",
              "      <td>1) 500g okra\\n2) 3 tbsp mustard oil\\n3) 1 onio...</td>\n",
              "      <td>1) Wash and thoroughly dry the okra (kitchen r...</td>\n",
              "    </tr>\n",
              "    <tr>\n",
              "      <th>2</th>\n",
              "      <td>Healthy Chicken Korma</td>\n",
              "      <td>Chicken in Creamy Almond Sauce</td>\n",
              "      <td>mild</td>\n",
              "      <td>Prep 10 mins</td>\n",
              "      <td>115569</td>\n",
              "      <td>3.6</td>\n",
              "      <td>163.0</td>\n",
              "      <td>4.0</td>\n",
              "      <td>['CONTAINS-NUTS']</td>\n",
              "      <td>20 mins</td>\n",
              "      <td>1) 6-8 tbsp natural yoghurt\\n2) 1 tsp turmeric...</td>\n",
              "      <td>1) Grind your whole spices in a spice grinder....</td>\n",
              "    </tr>\n",
              "    <tr>\n",
              "      <th>3</th>\n",
              "      <td>Brown Lentil Dhal</td>\n",
              "      <td>Sabut Masoor di Dhal</td>\n",
              "      <td>medium</td>\n",
              "      <td>Prep 10 mins</td>\n",
              "      <td>146798</td>\n",
              "      <td>3.7</td>\n",
              "      <td>87.0</td>\n",
              "      <td>4.0</td>\n",
              "      <td>['VEGETARIAN']</td>\n",
              "      <td>20 mins</td>\n",
              "      <td>1) 200g brown lentils\\n2) Approx. 1L of water\\n</td>\n",
              "      <td>1) Place the lentils in the pressure cooker wi...</td>\n",
              "    </tr>\n",
              "    <tr>\n",
              "      <th>4</th>\n",
              "      <td>Thari Wala Chicken</td>\n",
              "      <td>Healthy Chicken Curry</td>\n",
              "      <td>medium</td>\n",
              "      <td>Prep 10 mins</td>\n",
              "      <td>262696</td>\n",
              "      <td>3.5</td>\n",
              "      <td>343.0</td>\n",
              "      <td>4.0</td>\n",
              "      <td>['LACTOSE-FREE']</td>\n",
              "      <td>40 mins</td>\n",
              "      <td>1) 8 pieces of chicken (4 legs cut into thigh ...</td>\n",
              "      <td>1) Skin the chicken, removing any excess fat.\\...</td>\n",
              "    </tr>\n",
              "    <tr>\n",
              "      <th>...</th>\n",
              "      <td>...</td>\n",
              "      <td>...</td>\n",
              "      <td>...</td>\n",
              "      <td>...</td>\n",
              "      <td>...</td>\n",
              "      <td>...</td>\n",
              "      <td>...</td>\n",
              "      <td>...</td>\n",
              "      <td>...</td>\n",
              "      <td>...</td>\n",
              "      <td>...</td>\n",
              "      <td>...</td>\n",
              "    </tr>\n",
              "    <tr>\n",
              "      <th>144</th>\n",
              "      <td>Vegan Wild Rice, Cumin &amp; Chickpea Burgers</td>\n",
              "      <td>Channa Chaul Tikki</td>\n",
              "      <td>medium</td>\n",
              "      <td>Prep 10 mins</td>\n",
              "      <td>12641</td>\n",
              "      <td>4.2</td>\n",
              "      <td>9.0</td>\n",
              "      <td>4.0</td>\n",
              "      <td>['VEGETARIAN']</td>\n",
              "      <td>15 mins</td>\n",
              "      <td>1) 200g cooked and cooled wild rice\\n2) 200g t...</td>\n",
              "      <td>1) Cook the rice as per the instructions on th...</td>\n",
              "    </tr>\n",
              "    <tr>\n",
              "      <th>145</th>\n",
              "      <td>Vegetable Pilau</td>\n",
              "      <td>Mixed Vegetable Rice</td>\n",
              "      <td>medium</td>\n",
              "      <td>Prep 10 mins</td>\n",
              "      <td>69937</td>\n",
              "      <td>4.0</td>\n",
              "      <td>15.0</td>\n",
              "      <td>4.0</td>\n",
              "      <td>['VEGETARIAN']</td>\n",
              "      <td>20 mins</td>\n",
              "      <td>1) 50g peas\\n2) 1 carrot (diced small)\\n3) 100...</td>\n",
              "      <td>1) Wash the rice until water runs clear and se...</td>\n",
              "    </tr>\n",
              "    <tr>\n",
              "      <th>146</th>\n",
              "      <td>Watermelon and Feta Chaat</td>\n",
              "      <td>Indian Style Watermelon and Feta Salad</td>\n",
              "      <td>medium</td>\n",
              "      <td>Prep 40 mins</td>\n",
              "      <td>16652</td>\n",
              "      <td>4.4</td>\n",
              "      <td>11.0</td>\n",
              "      <td>6.0</td>\n",
              "      <td>['VEGETARIAN']</td>\n",
              "      <td>15 mins</td>\n",
              "      <td>1) 250g atta\\n2) salt pinch\\n3) 1 tsp ajwain\\n...</td>\n",
              "      <td>1) Add the flour to a bowl and mix in the salt...</td>\n",
              "    </tr>\n",
              "    <tr>\n",
              "      <th>147</th>\n",
              "      <td>Zambezi Baked Sea Bream</td>\n",
              "      <td>Shama with relish</td>\n",
              "      <td>medium</td>\n",
              "      <td>Prep 5 mins</td>\n",
              "      <td>11808</td>\n",
              "      <td>4.0</td>\n",
              "      <td>7.0</td>\n",
              "      <td>2.0</td>\n",
              "      <td>['LACTOSE-FREE']</td>\n",
              "      <td>20 mins</td>\n",
              "      <td>1) 2 whole sea bream (sea bass fillets if you ...</td>\n",
              "      <td>1) Heat your oven to 180ºC\\n2) Remove any scal...</td>\n",
              "    </tr>\n",
              "    <tr>\n",
              "      <th>148</th>\n",
              "      <td>Zhoug</td>\n",
              "      <td>Middle Eastern Coriander Dip</td>\n",
              "      <td>medium</td>\n",
              "      <td>Prep 5 mins</td>\n",
              "      <td>67834</td>\n",
              "      <td>3.7</td>\n",
              "      <td>3.0</td>\n",
              "      <td>4.0</td>\n",
              "      <td>['VEGETARIAN']</td>\n",
              "      <td>5 mins</td>\n",
              "      <td>1) 4 cloves garlic, roughly chopped\\n2) 2 bunc...</td>\n",
              "      <td>1) Toast the cardamom and cumin until fragrant...</td>\n",
              "    </tr>\n",
              "  </tbody>\n",
              "</table>\n",
              "<p>149 rows × 12 columns</p>\n",
              "</div>\n",
              "    <div class=\"colab-df-buttons\">\n",
              "\n",
              "  <div class=\"colab-df-container\">\n",
              "    <button class=\"colab-df-convert\" onclick=\"convertToInteractive('df-f3dea392-ee8a-4295-b6c5-945a35c2c28a')\"\n",
              "            title=\"Convert this dataframe to an interactive table.\"\n",
              "            style=\"display:none;\">\n",
              "\n",
              "  <svg xmlns=\"http://www.w3.org/2000/svg\" height=\"24px\" viewBox=\"0 -960 960 960\">\n",
              "    <path d=\"M120-120v-720h720v720H120Zm60-500h600v-160H180v160Zm220 220h160v-160H400v160Zm0 220h160v-160H400v160ZM180-400h160v-160H180v160Zm440 0h160v-160H620v160ZM180-180h160v-160H180v160Zm440 0h160v-160H620v160Z\"/>\n",
              "  </svg>\n",
              "    </button>\n",
              "\n",
              "  <style>\n",
              "    .colab-df-container {\n",
              "      display:flex;\n",
              "      gap: 12px;\n",
              "    }\n",
              "\n",
              "    .colab-df-convert {\n",
              "      background-color: #E8F0FE;\n",
              "      border: none;\n",
              "      border-radius: 50%;\n",
              "      cursor: pointer;\n",
              "      display: none;\n",
              "      fill: #1967D2;\n",
              "      height: 32px;\n",
              "      padding: 0 0 0 0;\n",
              "      width: 32px;\n",
              "    }\n",
              "\n",
              "    .colab-df-convert:hover {\n",
              "      background-color: #E2EBFA;\n",
              "      box-shadow: 0px 1px 2px rgba(60, 64, 67, 0.3), 0px 1px 3px 1px rgba(60, 64, 67, 0.15);\n",
              "      fill: #174EA6;\n",
              "    }\n",
              "\n",
              "    .colab-df-buttons div {\n",
              "      margin-bottom: 4px;\n",
              "    }\n",
              "\n",
              "    [theme=dark] .colab-df-convert {\n",
              "      background-color: #3B4455;\n",
              "      fill: #D2E3FC;\n",
              "    }\n",
              "\n",
              "    [theme=dark] .colab-df-convert:hover {\n",
              "      background-color: #434B5C;\n",
              "      box-shadow: 0px 1px 3px 1px rgba(0, 0, 0, 0.15);\n",
              "      filter: drop-shadow(0px 1px 2px rgba(0, 0, 0, 0.3));\n",
              "      fill: #FFFFFF;\n",
              "    }\n",
              "  </style>\n",
              "\n",
              "    <script>\n",
              "      const buttonEl =\n",
              "        document.querySelector('#df-f3dea392-ee8a-4295-b6c5-945a35c2c28a button.colab-df-convert');\n",
              "      buttonEl.style.display =\n",
              "        google.colab.kernel.accessAllowed ? 'block' : 'none';\n",
              "\n",
              "      async function convertToInteractive(key) {\n",
              "        const element = document.querySelector('#df-f3dea392-ee8a-4295-b6c5-945a35c2c28a');\n",
              "        const dataTable =\n",
              "          await google.colab.kernel.invokeFunction('convertToInteractive',\n",
              "                                                    [key], {});\n",
              "        if (!dataTable) return;\n",
              "\n",
              "        const docLinkHtml = 'Like what you see? Visit the ' +\n",
              "          '<a target=\"_blank\" href=https://colab.research.google.com/notebooks/data_table.ipynb>data table notebook</a>'\n",
              "          + ' to learn more about interactive tables.';\n",
              "        element.innerHTML = '';\n",
              "        dataTable['output_type'] = 'display_data';\n",
              "        await google.colab.output.renderOutput(dataTable, element);\n",
              "        const docLink = document.createElement('div');\n",
              "        docLink.innerHTML = docLinkHtml;\n",
              "        element.appendChild(docLink);\n",
              "      }\n",
              "    </script>\n",
              "  </div>\n",
              "\n",
              "\n",
              "<div id=\"df-e9a897c4-d70d-45cf-b76f-1a3b5f7d03ab\">\n",
              "  <button class=\"colab-df-quickchart\" onclick=\"quickchart('df-e9a897c4-d70d-45cf-b76f-1a3b5f7d03ab')\"\n",
              "            title=\"Suggest charts\"\n",
              "            style=\"display:none;\">\n",
              "\n",
              "<svg xmlns=\"http://www.w3.org/2000/svg\" height=\"24px\"viewBox=\"0 0 24 24\"\n",
              "     width=\"24px\">\n",
              "    <g>\n",
              "        <path d=\"M19 3H5c-1.1 0-2 .9-2 2v14c0 1.1.9 2 2 2h14c1.1 0 2-.9 2-2V5c0-1.1-.9-2-2-2zM9 17H7v-7h2v7zm4 0h-2V7h2v10zm4 0h-2v-4h2v4z\"/>\n",
              "    </g>\n",
              "</svg>\n",
              "  </button>\n",
              "\n",
              "<style>\n",
              "  .colab-df-quickchart {\n",
              "      --bg-color: #E8F0FE;\n",
              "      --fill-color: #1967D2;\n",
              "      --hover-bg-color: #E2EBFA;\n",
              "      --hover-fill-color: #174EA6;\n",
              "      --disabled-fill-color: #AAA;\n",
              "      --disabled-bg-color: #DDD;\n",
              "  }\n",
              "\n",
              "  [theme=dark] .colab-df-quickchart {\n",
              "      --bg-color: #3B4455;\n",
              "      --fill-color: #D2E3FC;\n",
              "      --hover-bg-color: #434B5C;\n",
              "      --hover-fill-color: #FFFFFF;\n",
              "      --disabled-bg-color: #3B4455;\n",
              "      --disabled-fill-color: #666;\n",
              "  }\n",
              "\n",
              "  .colab-df-quickchart {\n",
              "    background-color: var(--bg-color);\n",
              "    border: none;\n",
              "    border-radius: 50%;\n",
              "    cursor: pointer;\n",
              "    display: none;\n",
              "    fill: var(--fill-color);\n",
              "    height: 32px;\n",
              "    padding: 0;\n",
              "    width: 32px;\n",
              "  }\n",
              "\n",
              "  .colab-df-quickchart:hover {\n",
              "    background-color: var(--hover-bg-color);\n",
              "    box-shadow: 0 1px 2px rgba(60, 64, 67, 0.3), 0 1px 3px 1px rgba(60, 64, 67, 0.15);\n",
              "    fill: var(--button-hover-fill-color);\n",
              "  }\n",
              "\n",
              "  .colab-df-quickchart-complete:disabled,\n",
              "  .colab-df-quickchart-complete:disabled:hover {\n",
              "    background-color: var(--disabled-bg-color);\n",
              "    fill: var(--disabled-fill-color);\n",
              "    box-shadow: none;\n",
              "  }\n",
              "\n",
              "  .colab-df-spinner {\n",
              "    border: 2px solid var(--fill-color);\n",
              "    border-color: transparent;\n",
              "    border-bottom-color: var(--fill-color);\n",
              "    animation:\n",
              "      spin 1s steps(1) infinite;\n",
              "  }\n",
              "\n",
              "  @keyframes spin {\n",
              "    0% {\n",
              "      border-color: transparent;\n",
              "      border-bottom-color: var(--fill-color);\n",
              "      border-left-color: var(--fill-color);\n",
              "    }\n",
              "    20% {\n",
              "      border-color: transparent;\n",
              "      border-left-color: var(--fill-color);\n",
              "      border-top-color: var(--fill-color);\n",
              "    }\n",
              "    30% {\n",
              "      border-color: transparent;\n",
              "      border-left-color: var(--fill-color);\n",
              "      border-top-color: var(--fill-color);\n",
              "      border-right-color: var(--fill-color);\n",
              "    }\n",
              "    40% {\n",
              "      border-color: transparent;\n",
              "      border-right-color: var(--fill-color);\n",
              "      border-top-color: var(--fill-color);\n",
              "    }\n",
              "    60% {\n",
              "      border-color: transparent;\n",
              "      border-right-color: var(--fill-color);\n",
              "    }\n",
              "    80% {\n",
              "      border-color: transparent;\n",
              "      border-right-color: var(--fill-color);\n",
              "      border-bottom-color: var(--fill-color);\n",
              "    }\n",
              "    90% {\n",
              "      border-color: transparent;\n",
              "      border-bottom-color: var(--fill-color);\n",
              "    }\n",
              "  }\n",
              "</style>\n",
              "\n",
              "  <script>\n",
              "    async function quickchart(key) {\n",
              "      const quickchartButtonEl =\n",
              "        document.querySelector('#' + key + ' button');\n",
              "      quickchartButtonEl.disabled = true;  // To prevent multiple clicks.\n",
              "      quickchartButtonEl.classList.add('colab-df-spinner');\n",
              "      try {\n",
              "        const charts = await google.colab.kernel.invokeFunction(\n",
              "            'suggestCharts', [key], {});\n",
              "      } catch (error) {\n",
              "        console.error('Error during call to suggestCharts:', error);\n",
              "      }\n",
              "      quickchartButtonEl.classList.remove('colab-df-spinner');\n",
              "      quickchartButtonEl.classList.add('colab-df-quickchart-complete');\n",
              "    }\n",
              "    (() => {\n",
              "      let quickchartButtonEl =\n",
              "        document.querySelector('#df-e9a897c4-d70d-45cf-b76f-1a3b5f7d03ab button');\n",
              "      quickchartButtonEl.style.display =\n",
              "        google.colab.kernel.accessAllowed ? 'block' : 'none';\n",
              "    })();\n",
              "  </script>\n",
              "</div>\n",
              "\n",
              "  <div id=\"id_de123614-7803-404b-bc5e-b86f80036809\">\n",
              "    <style>\n",
              "      .colab-df-generate {\n",
              "        background-color: #E8F0FE;\n",
              "        border: none;\n",
              "        border-radius: 50%;\n",
              "        cursor: pointer;\n",
              "        display: none;\n",
              "        fill: #1967D2;\n",
              "        height: 32px;\n",
              "        padding: 0 0 0 0;\n",
              "        width: 32px;\n",
              "      }\n",
              "\n",
              "      .colab-df-generate:hover {\n",
              "        background-color: #E2EBFA;\n",
              "        box-shadow: 0px 1px 2px rgba(60, 64, 67, 0.3), 0px 1px 3px 1px rgba(60, 64, 67, 0.15);\n",
              "        fill: #174EA6;\n",
              "      }\n",
              "\n",
              "      [theme=dark] .colab-df-generate {\n",
              "        background-color: #3B4455;\n",
              "        fill: #D2E3FC;\n",
              "      }\n",
              "\n",
              "      [theme=dark] .colab-df-generate:hover {\n",
              "        background-color: #434B5C;\n",
              "        box-shadow: 0px 1px 3px 1px rgba(0, 0, 0, 0.15);\n",
              "        filter: drop-shadow(0px 1px 2px rgba(0, 0, 0, 0.3));\n",
              "        fill: #FFFFFF;\n",
              "      }\n",
              "    </style>\n",
              "    <button class=\"colab-df-generate\" onclick=\"generateWithVariable('df')\"\n",
              "            title=\"Generate code using this dataframe.\"\n",
              "            style=\"display:none;\">\n",
              "\n",
              "  <svg xmlns=\"http://www.w3.org/2000/svg\" height=\"24px\"viewBox=\"0 0 24 24\"\n",
              "       width=\"24px\">\n",
              "    <path d=\"M7,19H8.4L18.45,9,17,7.55,7,17.6ZM5,21V16.75L18.45,3.32a2,2,0,0,1,2.83,0l1.4,1.43a1.91,1.91,0,0,1,.58,1.4,1.91,1.91,0,0,1-.58,1.4L9.25,21ZM18.45,9,17,7.55Zm-12,3A5.31,5.31,0,0,0,4.9,8.1,5.31,5.31,0,0,0,1,6.5,5.31,5.31,0,0,0,4.9,4.9,5.31,5.31,0,0,0,6.5,1,5.31,5.31,0,0,0,8.1,4.9,5.31,5.31,0,0,0,12,6.5,5.46,5.46,0,0,0,6.5,12Z\"/>\n",
              "  </svg>\n",
              "    </button>\n",
              "    <script>\n",
              "      (() => {\n",
              "      const buttonEl =\n",
              "        document.querySelector('#id_de123614-7803-404b-bc5e-b86f80036809 button.colab-df-generate');\n",
              "      buttonEl.style.display =\n",
              "        google.colab.kernel.accessAllowed ? 'block' : 'none';\n",
              "\n",
              "      buttonEl.onclick = () => {\n",
              "        google.colab.notebook.generateWithVariable('df');\n",
              "      }\n",
              "      })();\n",
              "    </script>\n",
              "  </div>\n",
              "\n",
              "    </div>\n",
              "  </div>\n"
            ],
            "application/vnd.google.colaboratory.intrinsic+json": {
              "type": "dataframe",
              "variable_name": "df",
              "summary": "{\n  \"name\": \"df\",\n  \"rows\": 149,\n  \"fields\": [\n    {\n      \"column\": \"Dish Name\",\n      \"properties\": {\n        \"dtype\": \"string\",\n        \"num_unique_values\": 149,\n        \"samples\": [\n          \"Masala Gosht\",\n          \"Aloo Muttar\",\n          \"Sholay\"\n        ],\n        \"semantic_type\": \"\",\n        \"description\": \"\"\n      }\n    },\n    {\n      \"column\": \"Description\",\n      \"properties\": {\n        \"dtype\": \"string\",\n        \"num_unique_values\": 144,\n        \"samples\": [\n          \"Aubergine Pate\",\n          \"Black eyed bean and bamboo shoot stew\",\n          \"Kashmiri Gucchi Pilau\"\n        ],\n        \"semantic_type\": \"\",\n        \"description\": \"\"\n      }\n    },\n    {\n      \"column\": \"Spice\",\n      \"properties\": {\n        \"dtype\": \"category\",\n        \"num_unique_values\": 4,\n        \"samples\": [\n          \"medium\",\n          \"none\",\n          \"mild\"\n        ],\n        \"semantic_type\": \"\",\n        \"description\": \"\"\n      }\n    },\n    {\n      \"column\": \"Prep Time\",\n      \"properties\": {\n        \"dtype\": \"category\",\n        \"num_unique_values\": 12,\n        \"samples\": [\n          \"Prep 12 hrs\",\n          \"Prep 1 hr 30 mins\",\n          \"Prep 10 mins\"\n        ],\n        \"semantic_type\": \"\",\n        \"description\": \"\"\n      }\n    },\n    {\n      \"column\": \"Views\",\n      \"properties\": {\n        \"dtype\": \"number\",\n        \"std\": 82521,\n        \"min\": 3981,\n        \"max\": 596269,\n        \"num_unique_values\": 149,\n        \"samples\": [\n          96424,\n          65456,\n          98426\n        ],\n        \"semantic_type\": \"\",\n        \"description\": \"\"\n      }\n    },\n    {\n      \"column\": \"Rating\",\n      \"properties\": {\n        \"dtype\": \"number\",\n        \"std\": 0.5614424880001168,\n        \"min\": 0.0,\n        \"max\": 5.0,\n        \"num_unique_values\": 22,\n        \"samples\": [\n          4.1,\n          4.5,\n          4.3\n        ],\n        \"semantic_type\": \"\",\n        \"description\": \"\"\n      }\n    },\n    {\n      \"column\": \"Number of Votes\",\n      \"properties\": {\n        \"dtype\": \"number\",\n        \"std\": 127.99905797596853,\n        \"min\": 0.0,\n        \"max\": 1266.0,\n        \"num_unique_values\": 82,\n        \"samples\": [\n          47.0,\n          18.0,\n          15.0\n        ],\n        \"semantic_type\": \"\",\n        \"description\": \"\"\n      }\n    },\n    {\n      \"column\": \"Serves\",\n      \"properties\": {\n        \"dtype\": \"number\",\n        \"std\": 1.3868209205063733,\n        \"min\": 1.0,\n        \"max\": 12.0,\n        \"num_unique_values\": 6,\n        \"samples\": [\n          4.0,\n          6.0,\n          1.0\n        ],\n        \"semantic_type\": \"\",\n        \"description\": \"\"\n      }\n    },\n    {\n      \"column\": \"Dietary Info\",\n      \"properties\": {\n        \"dtype\": \"category\",\n        \"num_unique_values\": 10,\n        \"samples\": [\n          \"['GLUTEN-FREE']\",\n          \"['VEGETARIAN']\",\n          \"['HEALTHY']\"\n        ],\n        \"semantic_type\": \"\",\n        \"description\": \"\"\n      }\n    },\n    {\n      \"column\": \"Cook Time\",\n      \"properties\": {\n        \"dtype\": \"category\",\n        \"num_unique_values\": 13,\n        \"samples\": [\n          \" 35 mins\",\n          \" 50 mins\",\n          \" 30 mins\"\n        ],\n        \"semantic_type\": \"\",\n        \"description\": \"\"\n      }\n    },\n    {\n      \"column\": \"Ingredients\",\n      \"properties\": {\n        \"dtype\": \"string\",\n        \"num_unique_values\": 148,\n        \"samples\": [\n          \"1) 4 whole peppers, 2 red and 2 green\\n2) 4 medium sized potatoes, boiled and diced\\n3) 1 tsp rapeseed oil\\n4) 1 tsp of salt\\n5) 1 tsp cumin seeds\\n6) 1 green chilli, finely chopped\\n7) 1 tsp garam masala\\n8) 3cm fresh ginger, grated\\n9) 1 tbsp fenugreek leaves\\n10) 1 tbsp fresh coriander, finely chopped\\n\",\n          \"1) 1 tbsp butter\\n2) 1 tsp cumin seeds\\n3) \\u00bd tsp mustard seeds\\n4) 4 green chillies, finely chopped\\n5) 4cm piece root ginger\\n6) \\u00bd tsp turmeric\\n7) 500g summer greens, shredded\\n8) 100g peas / blanched broad beans\\n9) 1 lemon\\n10) 2 tbsp coconut, grated\\n11) 1 tsp garam masala\\n\",\n          \"1) 600g leg of lamb (washed, trimmed & cubed)\\n\"\n        ],\n        \"semantic_type\": \"\",\n        \"description\": \"\"\n      }\n    },\n    {\n      \"column\": \"Instructions\",\n      \"properties\": {\n        \"dtype\": \"string\",\n        \"num_unique_values\": 148,\n        \"samples\": [\n          \"1) Cook the potatoes gently with the skin on (do not boil too vigorously) for 20-25 minutes. Once soft leave to cool and then peel. Cut into small cubes and place into a large bowl.\\n2) In a small frying pan heat the oil and fry the cumin seeds. When sizzling and aromatic remove and add to the potatoes.\\n3) Next add the salt, chilli, garam masala, fenugreek, ginger and fresh coriander to the potatoes and stir - check seasoning.\\n\",\n          \"1) Heat the butter in a large non-stick pan or wok, sizzle the cumin and mustard seeds until fragrant, then add the chilli, ginger and turmeric.\\n2) Fry until aromatic, then add the greens, a pinch of salt, a splash of water and the peas or broad beans.\\n3) Cook for 4-5 mins until the greens have wilted.\\n4) Add a squeeze of lemon juice, garam masala and the coconut, then toss everything together to serve.\\n\",\n          \"1) Heat the oil in a heavy based pan and add the onions, after a few minutes stir in the chopped garlic.\\n2) Cook on a gentle heat so the onions cook to a dark golden brown. This will take at least 20 minutes. If the onions catch on the pan add a splash of water and stir.\\n3) Reduce the heat and add the tomatoes, ginger, salt, cumin, turmeric, chilli, coriander stalks and fenugreek. Stir together and increase the heat so the onions and tomatoes melt with the spices creating a thick aromatic masala sauce. This will take about 5-10 minutes.\\n4) Add the lamb and stir-fry to seal the meat and coat with the masala sauce.\\n5) Reduce the heat to the lowest setting and move the pan to the smallest hob. Place the lid on the pan and allow the lamb to cook gently in it own juices. This will take between 40-60 minutes. Stir occasionally until tender.\\n6) If you want more of a gravy add some boiling water and leave to simmer for another few minutes.\\n7) Remove from the heat and add the garam masala, sprinkle with the fresh coriander and serve.\\n\"\n        ],\n        \"semantic_type\": \"\",\n        \"description\": \"\"\n      }\n    }\n  ]\n}"
            }
          },
          "metadata": {},
          "execution_count": 22
        }
      ],
      "source": [
        "from IPython.display import display, HTML\n",
        "# Set the display width to control the output width\n",
        "pd.set_option('display.width', 100)\n",
        "# Read the dataset and read the Laptop Dataset\n",
        "df"
      ]
    },
    {
      "cell_type": "code",
      "execution_count": null,
      "metadata": {
        "id": "3pHvMwio6uXr"
      },
      "outputs": [],
      "source": [
        "### dialogue_mgmt_system()"
      ]
    },
    {
      "cell_type": "code",
      "execution_count": 23,
      "metadata": {
        "id": "gJZiolerD9iQ"
      },
      "outputs": [],
      "source": [
        "def initialize_conversation():\n",
        "    '''\n",
        "    Returns a list [{\"role\": \"system\", \"content\": system_message}]\n",
        "    '''\n",
        "\n",
        "    delimiter = \"####\"\n",
        "    example_user_req = {'Spice': 'mild','Dietary Info': 'vegetarian','Rating': '4','Serves': '4'}\n",
        "\n",
        "    system_message = f\"\"\"\n",
        "\n",
        "    You are an intelligent healthy recipe expert and your goal is to find the best healthy  recipe for a user.\n",
        "    You need to ask relevant questions and understand the user profile by analysing the user's responses.\n",
        "    You final objective is to fill the values for the different keys ('Spice','Dietary Info,'Rating','Serves') in the python dictionary and be confident of the values.\n",
        "    These key value pairs define the user's profile.\n",
        "    The python dictionary looks like this {{'Spice': 'values','Dietary Info': 'values','Rating': 'values','Serves': 'values'}}\n",
        "    The values for key 'Spice' should be 'mild', 'medium', 'hot'or 'none' based on the importance of the corresponding keys, as stated by user.\n",
        "    The value for key 'Dietary Info' should be 'contains-nuts', 'vegetarian', 'lactose-free' based on the importance of the corresponding keys, as stated by user.\n",
        "    The value for keys 'Rating'and 'Serves' is a numerical value extracted from the user's response.\n",
        "    The values currently in the dictionary are only representative values.\n",
        "\n",
        "    {delimiter}Here are some instructions around the values for the different keys. If you do not follow this, you'll be heavily penalised.\n",
        "    - The values for keys, 'Dietary Info' and 'Spice' should be based on the importance of the corresponding keys, as stated by user.\n",
        "    - The value for 'Rating' and 'Serves' should be a numerical value extracted from the user's response.\n",
        "    - 'Rating' value needs to be greater than or equal to 4. If the user says less than that, please mention that there are no laptops in that range.\n",
        "    - Do not randomly assign values to any of the keys. The values need to be inferred from the user's response.\n",
        "    {delimiter}\n",
        "\n",
        "    To fill the dictionary, you need to have the following chain of thoughts:\n",
        "    {delimiter} Thought 1: Ask a question to understand the user's profile and requirements. \\n\n",
        "    If their primary goal for recipe is unclear. Ask another question to comprehend their needs.\n",
        "    You are trying to fill the values of all the keys ('Spice','Dietary Info', 'Rating', 'Serves') in the python dictionary by understanding the user requirements.\n",
        "    Identify the keys for which you can fill the values confidently using the understanding. \\n\n",
        "    Remember the instructions around the values for the different keys.\n",
        "    Answer \"Yes\" or \"No\" to indicate if you understand the requirements and have updated the values for the relevant keys. \\n\n",
        "    If yes, proceed to the next step. Otherwise, rephrase the question to capture their profile. \\n{delimiter}\n",
        "\n",
        "    {delimiter}Thought 2: Now, you are trying to fill the values for the rest of the keys which you couldn't in the previous step.\n",
        "    Remember the instructions around the values for the different keys. Ask questions you might have for all the keys to strengthen your understanding of the user's profile.\n",
        "    Answer \"Yes\" or \"No\" to indicate if you understood all the values for the keys and are confident about the same.\n",
        "    If yes, move to the next Thought. If no, ask question on the keys whose values you are unsure of. \\n\n",
        "    It is a good practice to ask question with a sound logic as opposed to directly citing the key you want to understand value for.{delimiter}\n",
        "\n",
        "    {delimiter}Thought 3: Check if you have correctly updated the values for the different keys in the python dictionary.\n",
        "    If you are not confident about any of the values, ask clarifying questions. {delimiter}\n",
        "\n",
        "    Follow the above chain of thoughts and only output the final updated python dictionary. \\n\n",
        "\n",
        "\n",
        "    {delimiter} Here is a sample conversation between the user and assistant:\n",
        "    User: \"Hi, I am a health conscious person.\"\n",
        "    Assistant: \"Thanks! As a health conscious person, you likely require a recipe that can control and balance your diet. Hence, the recipe should have healthy diet. You would also need a good rating recipe and also it should be for all the family members. May I know what kind of diet do you primarily focus on? Are you more involved in mild spicy, or vegetarian or both? Understanding the specific type of diet will help me tailor my recommendations accordingly. Let me know if my understanding is correct until now.\"\n",
        "    User: \"I primarily want vegetarian dish.\"\n",
        "    Assistant: \"Thank you for providing that information. Along with vegetarian recipe, i would also like to know whether the level of spicyness should be mild, low, or medium?\"\n",
        "    User: \"It should be mild.\"\n",
        "    Assistant: \"Thank you for the information. I would also like to know whether you want to make dish for all the family members, and if yes, then how many serves you want? To ensure I have a complete understanding of your needs, I have one more question if this diet is preffered to live a healthy lifestyle\"\n",
        "    User: \"Yes, we are 4 members in our family, so atleast it should be for 4 serves so that my all the family members can live healthy lifestyle\"\n",
        "    Assistant:\"Could you kindly let me know which online user rating for the dish would you prefer? This will help me find options that fit within your range while meeting the specified requirements.\"\n",
        "    User: \"my min rating expectation for dish is 4\"\n",
        "    Assistant: \"{example_user_req}\"\n",
        "    {delimiter}\n",
        "\n",
        "    Start with a short welcome message and encourage the user to share their requirements.\n",
        "    \"\"\"\n",
        "    conversation = [{\"role\": \"system\", \"content\": system_message}]\n",
        "    return conversation"
      ]
    },
    {
      "cell_type": "code",
      "execution_count": 24,
      "metadata": {
        "colab": {
          "base_uri": "https://localhost:8080/"
        },
        "id": "bx-8Lsa86udJ",
        "outputId": "709127cb-ed43-49ef-b9cc-263a3886290a"
      },
      "outputs": [
        {
          "output_type": "stream",
          "name": "stdout",
          "text": [
            "[{'role': 'system', 'content': '\\n\\n    You are an intelligent healthy recipe expert and your goal is to find the best healthy  recipe for a user.\\n    You need to ask relevant questions and understand the user profile by analysing the user\\'s responses.\\n    You final objective is to fill the values for the different keys (\\'Spice\\',\\'Dietary Info,\\'Rating\\',\\'Serves\\') in the python dictionary and be confident of the values.\\n    These key value pairs define the user\\'s profile.\\n    The python dictionary looks like this {\\'Spice\\': \\'values\\',\\'Dietary Info\\': \\'values\\',\\'Rating\\': \\'values\\',\\'Serves\\': \\'values\\'}\\n    The values for key \\'Spice\\' should be \\'mild\\', \\'medium\\', \\'hot\\'or \\'none\\' based on the importance of the corresponding keys, as stated by user.\\n    The value for key \\'Dietary Info\\' should be \\'contains-nuts\\', \\'vegetarian\\', \\'lactose-free\\' based on the importance of the corresponding keys, as stated by user.\\n    The value for keys \\'Rating\\'and \\'Serves\\' is a numerical value extracted from the user\\'s response.\\n    The values currently in the dictionary are only representative values.\\n\\n    ####Here are some instructions around the values for the different keys. If you do not follow this, you\\'ll be heavily penalised.\\n    - The values for keys, \\'Dietary Info\\' and \\'Spice\\' should be based on the importance of the corresponding keys, as stated by user.\\n    - The value for \\'Rating\\' and \\'Serves\\' should be a numerical value extracted from the user\\'s response.\\n    - \\'Rating\\' value needs to be greater than or equal to 4. If the user says less than that, please mention that there are no laptops in that range.\\n    - Do not randomly assign values to any of the keys. The values need to be inferred from the user\\'s response.\\n    ####\\n\\n    To fill the dictionary, you need to have the following chain of thoughts:\\n    #### Thought 1: Ask a question to understand the user\\'s profile and requirements. \\n\\n    If their primary goal for recipe is unclear. Ask another question to comprehend their needs.\\n    You are trying to fill the values of all the keys (\\'Spice\\',\\'Dietary Info\\', \\'Rating\\', \\'Serves\\') in the python dictionary by understanding the user requirements.\\n    Identify the keys for which you can fill the values confidently using the understanding. \\n\\n    Remember the instructions around the values for the different keys.\\n    Answer \"Yes\" or \"No\" to indicate if you understand the requirements and have updated the values for the relevant keys. \\n\\n    If yes, proceed to the next step. Otherwise, rephrase the question to capture their profile. \\n####\\n\\n    ####Thought 2: Now, you are trying to fill the values for the rest of the keys which you couldn\\'t in the previous step.\\n    Remember the instructions around the values for the different keys. Ask questions you might have for all the keys to strengthen your understanding of the user\\'s profile.\\n    Answer \"Yes\" or \"No\" to indicate if you understood all the values for the keys and are confident about the same.\\n    If yes, move to the next Thought. If no, ask question on the keys whose values you are unsure of. \\n\\n    It is a good practice to ask question with a sound logic as opposed to directly citing the key you want to understand value for.####\\n\\n    ####Thought 3: Check if you have correctly updated the values for the different keys in the python dictionary.\\n    If you are not confident about any of the values, ask clarifying questions. ####\\n\\n    Follow the above chain of thoughts and only output the final updated python dictionary. \\n\\n\\n\\n    #### Here is a sample conversation between the user and assistant:\\n    User: \"Hi, I am a health conscious person.\"\\n    Assistant: \"Thanks! As a health conscious person, you likely require a recipe that can control and balance your diet. Hence, the recipe should have healthy diet. You would also need a good rating recipe and also it should be for all the family members. May I know what kind of diet do you primarily focus on? Are you more involved in mild spicy, or vegetarian or both? Understanding the specific type of diet will help me tailor my recommendations accordingly. Let me know if my understanding is correct until now.\"\\n    User: \"I primarily want vegetarian dish.\"\\n    Assistant: \"Thank you for providing that information. Along with vegetarian recipe, i would also like to know whether the level of spicyness should be mild, low, or medium?\"\\n    User: \"It should be mild.\"\\n    Assistant: \"Thank you for the information. I would also like to know whether you want to make dish for all the family members, and if yes, then how many serves you want? To ensure I have a complete understanding of your needs, I have one more question if this diet is preffered to live a healthy lifestyle\"\\n    User: \"Yes, we are 4 members in our family, so atleast it should be for 4 serves so that my all the family members can live healthy lifestyle\"\\n    Assistant:\"Could you kindly let me know which online user rating for the dish would you prefer? This will help me find options that fit within your range while meeting the specified requirements.\"\\n    User: \"my min rating expectation for dish is 4\"\\n    Assistant: \"{\\'Spice\\': \\'mild\\', \\'Dietary Info\\': \\'vegetarian\\', \\'Rating\\': \\'4\\', \\'Serves\\': \\'4\\'}\"\\n    ####\\n\\n    Start with a short welcome message and encourage the user to share their requirements.\\n    '}]\n"
          ]
        }
      ],
      "source": [
        "debug_conversation = initialize_conversation()\n",
        "print(debug_conversation)"
      ]
    },
    {
      "cell_type": "code",
      "execution_count": null,
      "metadata": {
        "id": "Ze1d8ppizrNa"
      },
      "outputs": [],
      "source": [
        "# recall that messages is a list of dicts\n",
        "# [{\"role\": \"system\", \"content\": system_message},\n",
        "# {\"role\": \"user\", \"content\": user_input},\n",
        "# {\"role\": \"assistant\", \"content\": assistant_message}]"
      ]
    },
    {
      "cell_type": "code",
      "execution_count": 25,
      "metadata": {
        "id": "xxYTuOvEzrPg"
      },
      "outputs": [],
      "source": [
        "#get_chat_model_completions(): This takes the ongoing conversation as the input and returns the response by the assistant\n",
        "\n",
        "def get_chat_model_completions(messages):\n",
        "    response = openai.ChatCompletion.create(\n",
        "        model=\"gpt-3.5-turbo\",\n",
        "        messages=messages,\n",
        "        temperature=0, # this is the degree of randomness of the model's output\n",
        "        # max_tokens = 3000\n",
        "    )\n",
        "    return response.choices[0].message[\"content\"]"
      ]
    },
    {
      "cell_type": "code",
      "execution_count": 26,
      "metadata": {
        "colab": {
          "base_uri": "https://localhost:8080/"
        },
        "id": "58Dxar4Hz5gA",
        "outputId": "782b5321-933f-4bca-efd0-cdf718f4de31"
      },
      "outputs": [
        {
          "output_type": "stream",
          "name": "stdout",
          "text": [
            "Welcome! I'm here to help you find the best healthy recipe based on your requirements. Please share your preferences and needs so that I can assist you effectively.\n"
          ]
        }
      ],
      "source": [
        "#Let's pass the initialized conversation debug_conversation and see what is the assistant's response.\n",
        "\n",
        "debug_introduction = get_chat_model_completions(debug_conversation)\n",
        "print(debug_introduction)"
      ]
    },
    {
      "cell_type": "code",
      "execution_count": 27,
      "metadata": {
        "id": "Ut43-66lz5h7"
      },
      "outputs": [],
      "source": [
        "#Let's play around a bit and add the following user's input debug_user_input to the conversation debug_conversation and see what the assistant responds with.\n",
        "\n",
        "debug_user_input = \"Hi, I am Krishiv. I need a healthy dish recipe.\""
      ]
    },
    {
      "cell_type": "code",
      "execution_count": 28,
      "metadata": {
        "colab": {
          "base_uri": "https://localhost:8080/"
        },
        "id": "HeTyfkX4z5lb",
        "outputId": "ed43a322-b384-4cc3-c954-40ec5b63082e"
      },
      "outputs": [
        {
          "output_type": "stream",
          "name": "stdout",
          "text": [
            "Thanks for reaching out, Krishiv! To find the best healthy dish recipe for you, could you please let me know what specific dietary preferences you have? Are you more inclined towards a particular type of diet such as vegetarian, gluten-free, or any other? Understanding your dietary preferences will help me tailor the recipe recommendations accordingly.\n"
          ]
        }
      ],
      "source": [
        "debug_conversation.append({\"role\": \"user\", \"content\": debug_user_input})\n",
        "debug_response_assistant = get_chat_model_completions(debug_conversation)\n",
        "print(debug_response_assistant)"
      ]
    },
    {
      "cell_type": "code",
      "execution_count": 29,
      "metadata": {
        "id": "2ucQ7sfIzrTC"
      },
      "outputs": [],
      "source": [
        "# moderation_check(): This checks if the user's or the assistant's message is inappropriate. If any of these is inappropriate, you can add a break statement to end the conversation.\n",
        "\n",
        "def moderation_check(user_input):\n",
        "    response = openai.Moderation.create(input=user_input)\n",
        "    moderation_output = response[\"results\"][0]\n",
        "    if moderation_output[\"flagged\"] == True:\n",
        "        return \"Flagged\"\n",
        "    else:\n",
        "        return \"Not Flagged\""
      ]
    },
    {
      "cell_type": "code",
      "execution_count": 30,
      "metadata": {
        "colab": {
          "base_uri": "https://localhost:8080/"
        },
        "id": "WUciguye05n7",
        "outputId": "5bb48cf6-178a-4c5a-ddcc-15b88e2cd08c"
      },
      "outputs": [
        {
          "output_type": "stream",
          "name": "stdout",
          "text": [
            "Not Flagged\n"
          ]
        }
      ],
      "source": [
        "#Let's test moderation on the debug_user_input\n",
        "\n",
        "debug_moderation = moderation_check(debug_user_input)\n",
        "print(debug_moderation)"
      ]
    },
    {
      "cell_type": "code",
      "execution_count": 31,
      "metadata": {
        "colab": {
          "base_uri": "https://localhost:8080/"
        },
        "id": "t4wwqe3V05qQ",
        "outputId": "3041d139-4e4b-42a6-9660-f759ac283d90"
      },
      "outputs": [
        {
          "output_type": "stream",
          "name": "stdout",
          "text": [
            "Flagged\n",
            "Flagged\n"
          ]
        }
      ],
      "source": [
        "#Let's now test moderation on some other text.\n",
        "\n",
        "print(moderation_check(\"I want to kill my Teacher.\"))\n",
        "print(moderation_check(\"I need rat poison to mix in someone's tea so that he can die.\"))"
      ]
    },
    {
      "cell_type": "code",
      "execution_count": 32,
      "metadata": {
        "colab": {
          "base_uri": "https://localhost:8080/",
          "height": 36
        },
        "id": "WHIl_HFi05ta",
        "outputId": "6f6ced12-09d4-40a7-e0ef-e454617b318d"
      },
      "outputs": [
        {
          "output_type": "execute_result",
          "data": {
            "text/plain": [
              "'Not Flagged'"
            ],
            "application/vnd.google.colaboratory.intrinsic+json": {
              "type": "string"
            }
          },
          "metadata": {},
          "execution_count": 32
        }
      ],
      "source": [
        "# Let's now check moderation on the assistant's response debug_response_assistant.\n",
        "moderation_check(debug_response_assistant)"
      ]
    },
    {
      "cell_type": "markdown",
      "metadata": {
        "id": "APL32PBV1ySF"
      },
      "source": [
        "intent_confirmation_layer(): This function takes the assistant's response and evaluates if the chatbot has captured the user's profile clearly. Specifically, this checks if the following properties for the user has been captured or not\n",
        "Dish Spice,\n",
        "Dietary Info,\n",
        "Rating,\n",
        "Serves"
      ]
    },
    {
      "cell_type": "code",
      "execution_count": 33,
      "metadata": {
        "id": "Z4d26S-T1-Sf"
      },
      "outputs": [],
      "source": [
        "def intent_confirmation_layer(response_assistant):\n",
        "    delimiter = \"####\"\n",
        "    prompt = f\"\"\"\n",
        "    You are a senior evaluator who has an eye for detail.\n",
        "    You are provided an input. You need to evaluate if the input has the following keys: 'Spice', 'Dietary Info', 'Rating', 'Serves'\n",
        "    Next you need to evaluate if the keys have the the values filled correctly.\n",
        "    The values for all keys should be  based on the importance as stated by user. The value for the keys 'Rating' and 'Serves' needs to contain a numerical value.\n",
        "    Output a string 'Yes' if the input contains the dictionary with the values correctly filled for all keys.\n",
        "    Otherwise out the string 'No'.\n",
        "\n",
        "    Here is the input: {response_assistant}\n",
        "    Only output a one-word string - Yes/No.\n",
        "    \"\"\"\n",
        "\n",
        "\n",
        "    response = openai.ChatCompletion.create(\n",
        "        model=\"gpt-3.5-turbo\",\n",
        "        messages=[\n",
        "            {\"role\": \"system\", \"content\": \"You are a senior evaluator.\"},\n",
        "            {\"role\": \"user\", \"content\": prompt}\n",
        "        ],\n",
        "        temperature=0\n",
        "    )\n",
        "\n",
        "    confirmation = response.choices[0].message['content'].strip()\n",
        "    return confirmation\n"
      ]
    },
    {
      "cell_type": "code",
      "source": [
        "# Initialize the debug_conversation list\n",
        "debug_conversation = []\n",
        "\n",
        "# Example assistant response\n",
        "debug_response_assistant = '''\n",
        "{\n",
        "    \"Spice\": \"mild\",\n",
        "    \"Dietary Info\": \"Vegetarian\",\n",
        "    \"Rating\": 4.5,\n",
        "    \"Serves\": 4\n",
        "}\n",
        "'''.strip()  # Strip any unnecessary whitespace\n",
        "\n",
        "# Append the assistant response to the debug_conversation\n",
        "debug_conversation.append({\"role\": \"assistant\", \"content\": debug_response_assistant})\n",
        "\n",
        "# Print the debug_conversation to verify\n",
        "print(debug_conversation)\n"
      ],
      "metadata": {
        "colab": {
          "base_uri": "https://localhost:8080/"
        },
        "id": "ZHmllmQK10Fe",
        "outputId": "8ba64d8b-f934-41d4-845d-ecacfa657dda"
      },
      "execution_count": 36,
      "outputs": [
        {
          "output_type": "stream",
          "name": "stdout",
          "text": [
            "[{'role': 'assistant', 'content': '{\\n    \"Spice\": \"mild\",\\n    \"Dietary Info\": \"Vegetarian\",\\n    \"Rating\": 4.5,\\n    \"Serves\": 4\\n}'}]\n"
          ]
        }
      ]
    },
    {
      "cell_type": "code",
      "source": [
        "debug_response_assistant_n = f\"\"\"\n",
        "\n",
        "Based on the information you have provided, I have updated the values in the dictionary as follows:\n",
        "\n",
        "{{'Spice': 'mild', 'Dietary Info': 'Vegetarian', 'Rating': 4, 'Serves': 4}}\n",
        "\n",
        "Is there anything else I can assist you with?\n",
        "\"\"\"\n"
      ],
      "metadata": {
        "id": "5x2g_Ne62K4h"
      },
      "execution_count": 37,
      "outputs": []
    },
    {
      "cell_type": "code",
      "source": [
        "intent_confirmation_layer(debug_response_assistant_n)"
      ],
      "metadata": {
        "colab": {
          "base_uri": "https://localhost:8080/",
          "height": 36
        },
        "id": "s6dVI4g_6z-q",
        "outputId": "067b3a85-8373-4847-c065-93858e90bb60"
      },
      "execution_count": 38,
      "outputs": [
        {
          "output_type": "execute_result",
          "data": {
            "text/plain": [
              "'Yes'"
            ],
            "application/vnd.google.colaboratory.intrinsic+json": {
              "type": "string"
            }
          },
          "metadata": {},
          "execution_count": 38
        }
      ]
    },
    {
      "cell_type": "code",
      "source": [
        "import openai\n",
        "\n",
        "def dictionary_present(response):\n",
        "    delimiter = \"####\"\n",
        "    user_req = {'Spice': 'mild', 'Dietary Info': 'vegetarian', 'Rating': '4', 'Serves': '4'}\n",
        "    prompt = f\"\"\"\n",
        "    You are a python expert. You are provided an input.\n",
        "    You have to check if there is a python dictionary present in the string.\n",
        "    It will have the following format {user_req}.\n",
        "    Your task is to just extract and return only the python dictionary from the input.\n",
        "    The output should match the format as {user_req}.\n",
        "    The output should contain the exact keys and values as present in the input.\n",
        "\n",
        "    Here are some sample input output pairs for better understanding:\n",
        "    {delimiter}\n",
        "    input: - Spice: medium - Dietary Info: vegetarian - Rating: 3 - Serves: 3\n",
        "    output: {{'Spice': 'medium', 'Dietary Info': 'vegetarian', 'Rating': '3', 'Serves': '3'}}\n",
        "\n",
        "    input: {{'Spice': 'mild', 'Dietary Info': 'vegetarian', 'Rating': '2', 'Serves': '2'}}\n",
        "    output: {{'Spice': 'mild', 'Dietary Info': 'vegetarian', 'Rating': '2', 'Serves': '2'}}\n",
        "\n",
        "    input: Here is your user profile 'Spice': 'mild', 'Dietary Info': 'vegetarian', 'Rating': '4', 'Serves': '4'\n",
        "    output: {{'Spice': 'mild', 'Dietary Info': 'vegetarian', 'Rating': '4', 'Serves': '4'}}\n",
        "    {delimiter}\n",
        "\n",
        "    Here is the input: {response}\n",
        "    \"\"\"\n",
        "\n",
        "    conversation = [{\"role\": \"system\", \"content\": prompt}]\n",
        "\n",
        "    # Call to OpenAI API\n",
        "    try:\n",
        "        response = openai.ChatCompletion.create(\n",
        "            model=\"gpt-3.5-turbo\",\n",
        "            messages=conversation\n",
        "        )\n",
        "        extracted_dict = response['choices'][0]['message']['content']\n",
        "        return extracted_dict.strip()  # Ensure no extra whitespace is returned\n",
        "    except Exception as e:\n",
        "        print(f\"Error occurred: {e}\")\n",
        "        return None\n",
        "\n",
        "# Example usage\n",
        "response = \"Here is your user profile 'Spice': 'mild', 'Dietary Info': 'vegetarian', 'Rating': '4', 'Serves': '4'\"\n",
        "extracted_dict = dictionary_present(response)\n",
        "print(extracted_dict)\n"
      ],
      "metadata": {
        "colab": {
          "base_uri": "https://localhost:8080/"
        },
        "id": "RjskOWRvMag9",
        "outputId": "13dc2ddf-93c4-4e1f-9ef6-9dcff61e7716"
      },
      "execution_count": 39,
      "outputs": [
        {
          "output_type": "stream",
          "name": "stdout",
          "text": [
            "{'Spice': 'mild', 'Dietary Info': 'vegetarian', 'Rating': '4', 'Serves': '4'}\n"
          ]
        }
      ]
    },
    {
      "cell_type": "code",
      "source": [
        "# Example usage\n",
        "debug_response_assistant_n = \"Here is your user profile 'Spice': 'mild', 'Dietary Info': 'vegetarian', 'Rating': '4', 'Serves': '4'\"\n",
        "response_dict_n = dictionary_present(debug_response_assistant_n)\n",
        "print(response_dict_n)\n"
      ],
      "metadata": {
        "colab": {
          "base_uri": "https://localhost:8080/"
        },
        "id": "J728hmYSN5qf",
        "outputId": "d6599a15-0a10-4adc-aa81-b105a4b51695"
      },
      "execution_count": 40,
      "outputs": [
        {
          "output_type": "stream",
          "name": "stdout",
          "text": [
            "{'Spice': 'mild', 'Dietary Info': 'vegetarian', 'Rating': '4', 'Serves': '4'}\n"
          ]
        }
      ]
    },
    {
      "cell_type": "code",
      "source": [
        "import pandas as pd\n",
        "import openai\n",
        "\n",
        "# Function to map dish features to a dictionary\n",
        "def product_map_layer(dish_description):\n",
        "    delimiter = \"#####\"\n",
        "    dish_spec = {\n",
        "        \"Spice\": \"(Spicy level of the dish)\",\n",
        "        \"Dietary Info\": \"(Vegetarian, Vegan, Contains Nuts, etc.)\",\n",
        "        \"Rating\": \"(Rating of the dish from 0 to 5)\",\n",
        "        \"Serves\": \"(Number of servings)\"\n",
        "    }\n",
        "\n",
        "    prompt = f\"\"\"\n",
        "    You are a Recipe Specifications Classifier whose job is to extract the key features of dishes as per their requirements.\n",
        "    To analyze each dish, perform the following steps:\n",
        "    Step 1: Extract the dish's primary features from the description: {dish_description}\n",
        "    Step 2: Store the extracted features in the dictionary: {dish_spec}\n",
        "    Step 3: Classify each of the items in {dish_spec} into appropriate categories based on the following rules:\n",
        "    {delimiter}\n",
        "    Spice:\n",
        "    - mild: if the dish is not spicy\n",
        "    - medium: if the dish is moderately spicy\n",
        "    - high: if the dish is very spicy\n",
        "\n",
        "    Dietary Info: Categorize based on the dietary information provided (e.g., Vegetarian, Vegan, Contains Nuts, Lactose-Free).\n",
        "\n",
        "    Rating:\n",
        "    - low: if the rating is below 3\n",
        "    - medium: if the rating is between 3 and 4 (inclusive)\n",
        "    - high: if the rating is above 4\n",
        "\n",
        "    Serves:\n",
        "    - low: if serves 1-2 people\n",
        "    - medium: if serves 3-4 people\n",
        "    - high: if serves more than 4 people\n",
        "    {delimiter}\n",
        "\n",
        "    {delimiter}\n",
        "    Here are some input-output pairs for few-shot learning:\n",
        "    input1: \"The Pistachio Chicken is a mild chicken dish in a creamy pistachio sauce. It is a vegetarian dish with a rating of 4.1 and serves 4 people.\"\n",
        "    output1: {{'Spice': 'mild', 'Dietary Info': 'Vegetarian', 'Rating': 'high', 'Serves': 'medium'}}\n",
        "\n",
        "    input2: \"Tangy Fried Okra is a medium spicy Bhindi dish with Amchoor. It is a vegetarian dish with a rating of 4.6 and serves 4 people.\"\n",
        "    output2: {{'Spice': 'medium', 'Dietary Info': 'Vegetarian', 'Rating': 'high', 'Serves': 'medium'}}\n",
        "\n",
        "    input3: \"Healthy Chicken Korma is a mild chicken dish in a creamy almond sauce. It contains nuts and has a rating of 3.6, serving 4 people.\"\n",
        "    output3: {{'Spice': 'mild', 'Dietary Info': 'Contains Nuts', 'Rating': 'medium', 'Serves': 'medium'}}\n",
        "    {delimiter}\n",
        "\n",
        "    Follow the above instructions step-by-step and output the dictionary {dish_spec} for the following dish: {dish_description}.\n",
        "    \"\"\"\n",
        "\n",
        "    try:\n",
        "        response = openai.ChatCompletion.create(\n",
        "            model=\"gpt-3.5-turbo\",\n",
        "            messages=[\n",
        "                {\"role\": \"system\", \"content\": \"You are a Recipe Specifications Classifier.\"},\n",
        "                {\"role\": \"user\", \"content\": prompt}\n",
        "            ],\n",
        "            max_tokens=2000,\n",
        "            temperature=0\n",
        "        )\n",
        "\n",
        "        # Extract the actual dictionary from the response\n",
        "        response_text = response[\"choices\"][0][\"message\"][\"content\"]\n",
        "\n",
        "        # Find the dictionary part in the response\n",
        "        start = response_text.find('{')\n",
        "        end = response_text.rfind('}') + 1\n",
        "\n",
        "        if start != -1 and end != -1:\n",
        "            extracted_features = response_text[start:end]\n",
        "            return extracted_features.strip()\n",
        "        else:\n",
        "            return None\n",
        "\n",
        "    except Exception as e:\n",
        "        print(f\"Error occurred: {e}\")\n",
        "        return None\n",
        "\n",
        "# Example usage\n",
        "dish_description = \"The Pistachio Chicken is a mild chicken dish in a creamy pistachio sauce. It is a vegetarian dish with a rating of 4.1 and serves 4 people.\"\n",
        "extracted_features = product_map_layer(dish_description)\n",
        "print(extracted_features)"
      ],
      "metadata": {
        "id": "ix1suS4CSJ5i",
        "colab": {
          "base_uri": "https://localhost:8080/"
        },
        "outputId": "fc16d05b-fd2b-4c02-e891-36d591ea1df6"
      },
      "execution_count": 42,
      "outputs": [
        {
          "output_type": "stream",
          "name": "stdout",
          "text": [
            "{\n",
            "    'Spice': 'mild',\n",
            "    'Dietary Info': 'Vegetarian',\n",
            "    'Rating': 'high',\n",
            "    'Serves': 'medium'\n",
            "}\n"
          ]
        }
      ]
    },
    {
      "cell_type": "code",
      "source": [
        "# Load the dataset\n",
        "df = pd.read_csv('/content/drive/My Drive/IndianHealthyRecipe.csv')\n",
        "\n",
        "# Define the function to map product features\n",
        "def product_map_layer(description, spice, rating, serves, dietary_info):\n",
        "    dish_spec = {\n",
        "        \"Spice\": spice,\n",
        "        \"Dietary Info\": dietary_info,\n",
        "        \"Rating\": \"low\" if rating < 3 else \"medium\" if rating <= 4 else \"high\",\n",
        "        \"Serves\": \"low\" if serves <= 2 else \"medium\" if serves <= 4 else \"high\"\n",
        "    }\n",
        "    return dish_spec\n",
        "\n",
        "# Apply the function to each row in the dataset\n",
        "df['dish_features'] = df.apply(\n",
        "    lambda row: product_map_layer(\n",
        "        row['Description'], row['Spice'], row['Rating'], row['Serves'], row['Dietary Info']\n",
        "    ), axis=1\n",
        ")\n",
        "\n",
        "# Display the DataFrame with the new column\n",
        "print(df[['Description', 'dish_features']])"
      ],
      "metadata": {
        "colab": {
          "base_uri": "https://localhost:8080/"
        },
        "id": "vIOHri8GahvO",
        "outputId": "f2dba6d9-c908-4863-c74b-1424af885975"
      },
      "execution_count": 44,
      "outputs": [
        {
          "output_type": "stream",
          "name": "stdout",
          "text": [
            "                                  Description                                      dish_features\n",
            "0    Mild chicken in a creamy pistachio sauce  {'Spice': 'mild', 'Dietary Info': '['CONTAINS-...\n",
            "1                         Bhindi with Amchoor  {'Spice': 'medium', 'Dietary Info': '['VEGETAR...\n",
            "2              Chicken in Creamy Almond Sauce  {'Spice': 'mild', 'Dietary Info': '['CONTAINS-...\n",
            "3                        Sabut Masoor di Dhal  {'Spice': 'medium', 'Dietary Info': '['VEGETAR...\n",
            "4                       Healthy Chicken Curry  {'Spice': 'medium', 'Dietary Info': '['LACTOSE...\n",
            "..                                        ...                                                ...\n",
            "144                        Channa Chaul Tikki  {'Spice': 'medium', 'Dietary Info': '['VEGETAR...\n",
            "145                      Mixed Vegetable Rice  {'Spice': 'medium', 'Dietary Info': '['VEGETAR...\n",
            "146    Indian Style Watermelon and Feta Salad  {'Spice': 'medium', 'Dietary Info': '['VEGETAR...\n",
            "147                         Shama with relish  {'Spice': 'medium', 'Dietary Info': '['LACTOSE...\n",
            "148              Middle Eastern Coriander Dip  {'Spice': 'medium', 'Dietary Info': '['VEGETAR...\n",
            "\n",
            "[149 rows x 2 columns]\n"
          ]
        }
      ]
    },
    {
      "cell_type": "code",
      "source": [
        "# Display the DataFrame with the new column\n",
        "print(df[['Description', 'dish_features']].head(10))"
      ],
      "metadata": {
        "id": "Llummi0QBj33",
        "colab": {
          "base_uri": "https://localhost:8080/"
        },
        "outputId": "cec46d77-ca38-4ea7-83af-97a9b4a628dc"
      },
      "execution_count": 45,
      "outputs": [
        {
          "output_type": "stream",
          "name": "stdout",
          "text": [
            "                                       Description  \\\n",
            "0         Mild chicken in a creamy pistachio sauce   \n",
            "1                              Bhindi with Amchoor   \n",
            "2                   Chicken in Creamy Almond Sauce   \n",
            "3                             Sabut Masoor di Dhal   \n",
            "4                            Healthy Chicken Curry   \n",
            "5  Aubergine and Potato Curry with Pickling Spices   \n",
            "6                           Potato Aubergine Curry   \n",
            "7                                  Masala Potatoes   \n",
            "8                                   Thania Machchi   \n",
            "9                              Green Chicken Tikka   \n",
            "\n",
            "                                       dish_features  \n",
            "0  {'Spice': 'mild', 'Dietary Info': '['CONTAINS-...  \n",
            "1  {'Spice': 'medium', 'Dietary Info': '['VEGETAR...  \n",
            "2  {'Spice': 'mild', 'Dietary Info': '['CONTAINS-...  \n",
            "3  {'Spice': 'medium', 'Dietary Info': '['VEGETAR...  \n",
            "4  {'Spice': 'medium', 'Dietary Info': '['LACTOSE...  \n",
            "5  {'Spice': 'hot', 'Dietary Info': '['VEGETARIAN...  \n",
            "6  {'Spice': 'medium', 'Dietary Info': '['VEGETAR...  \n",
            "7  {'Spice': 'hot', 'Dietary Info': '['VEGETARIAN...  \n",
            "8  {'Spice': 'medium', 'Dietary Info': '['LACTOSE...  \n",
            "9  {'Spice': 'medium', 'Dietary Info': '[]', 'Rat...  \n"
          ]
        }
      ]
    },
    {
      "cell_type": "code",
      "source": [
        "# Save the modified DataFrame to a CSV file\n",
        "df.to_csv(\"updated_recipe.csv\", index=False, header=True)"
      ],
      "metadata": {
        "id": "1aXz6qRd60EF"
      },
      "execution_count": 46,
      "outputs": []
    },
    {
      "cell_type": "code",
      "source": [
        " #Function to initialize conversation context\n",
        "def initialize_conv_reco(dishes_info):\n",
        "    system_message = f\"\"\"\n",
        "    You are a culinary expert tasked with providing recommendations and answering queries about various dishes in the recipe catalog:\n",
        "    {dishes_info}\n",
        "    \"\"\"\n",
        "    conversation = [{\"role\": \"system\", \"content\": system_message}]\n",
        "    return conversation"
      ],
      "metadata": {
        "id": "LWLezUhphwSN"
      },
      "execution_count": 47,
      "outputs": []
    },
    {
      "cell_type": "code",
      "source": [
        "import ast\n",
        "import re\n",
        "import numpy as np  # Import numpy for NaN handling\n",
        "\n",
        "def extract_dictionary_from_string(string):\n",
        "    \"\"\"\n",
        "    Extracts a dictionary from a given string using regex pattern matching.\n",
        "\n",
        "    Args:\n",
        "        string (str): The input string containing the dictionary.\n",
        "\n",
        "    Returns:\n",
        "        dict: The extracted dictionary with keys and values in lowercase.\n",
        "              If no dictionary is found or if there are parsing errors, returns an empty dictionary.\n",
        "    \"\"\"\n",
        "    # Use regex to find the first occurrence of a dictionary-like string\n",
        "    regex_pattern = r\"\\{[^{}]+\\}\"\n",
        "\n",
        "    dictionary_matches = re.findall(regex_pattern, string)\n",
        "\n",
        "    if dictionary_matches:\n",
        "        dictionary_string = dictionary_matches[0].lower()\n",
        "        try:\n",
        "            # Convert the dictionary string to a dictionary object using eval() for simplicity\n",
        "            # Handle potential 'NaN' values\n",
        "            dictionary_string = dictionary_string.replace('nan', '\"NaN\"')\n",
        "            dictionary = eval(dictionary_string)\n",
        "            if isinstance(dictionary, dict):\n",
        "                # Convert dictionary keys and values to lowercase\n",
        "                return {k.lower(): v.lower() if isinstance(v, str) else v for k, v in dictionary.items()}\n",
        "            else:\n",
        "                print(f\"Error: Extracted object is not a dictionary: {dictionary}\")\n",
        "                return {}\n",
        "        except Exception as e:\n",
        "            print(f\"Error parsing dictionary string: {e}\")\n",
        "            return {}\n",
        "    else:\n",
        "        print(\"No dictionary found in the input string.\")\n",
        "        return {}\n",
        "\n",
        "# Example usage:\n",
        "string = \"Here is the extracted dictionary: {'Spice': 'mild', 'Dietary Info': 'vegetarian', 'Rating': 'high', 'Serves': 'medium'}\"\n",
        "extracted_dict = extract_dictionary_from_string(string)\n",
        "print(extracted_dict)\n"
      ],
      "metadata": {
        "colab": {
          "base_uri": "https://localhost:8080/"
        },
        "id": "ySNsSjfTFZ3U",
        "outputId": "99069638-237c-4c6b-df7b-8c82d904afb9"
      },
      "execution_count": 48,
      "outputs": [
        {
          "output_type": "stream",
          "name": "stdout",
          "text": [
            "{'spice': 'mild', 'dietary info': 'vegetarian', 'rating': 'high', 'serves': 'medium'}\n"
          ]
        }
      ]
    },
    {
      "cell_type": "code",
      "source": [
        "import pandas as pd\n",
        "import json\n",
        "\n",
        "# Assuming dish_df is already loaded and processed as per previous steps\n",
        "\n",
        "# Define criteria for top dishes (e.g., highest rating)\n",
        "top_criteria = 'Rating'\n",
        "\n",
        "# Filter and sort dishes\n",
        "top_dishes_df = dish_df.sort_values(by=top_criteria, ascending=False).head(5)  # Example: Top 5 dishes by rating\n",
        "\n",
        "# Convert DataFrame to list of dictionaries\n",
        "top_dishes_list = top_dishes_df.to_dict('records')\n",
        "\n",
        "# Convert list of dictionaries to JSON format\n",
        "top_dishes_json = json.dumps(top_dishes_list, indent=4)  # indent=4 for pretty printing\n",
        "\n",
        "# Print JSON output\n",
        "print(top_dishes_json)\n",
        "\n",
        "# Save to a JSON file\n",
        "with open('top_dishes.json', 'w') as f:\n",
        "    f.write(top_dishes_json)\n"
      ],
      "metadata": {
        "colab": {
          "base_uri": "https://localhost:8080/"
        },
        "id": "55Hl8w1OCrnw",
        "outputId": "b28aa025-2b54-443d-dec8-b52582092161"
      },
      "execution_count": 57,
      "outputs": [
        {
          "output_type": "stream",
          "name": "stdout",
          "text": [
            "[\n",
            "    {\n",
            "        \"Dish Name\": \"Pitta Bread with Carom Seeds\",\n",
            "        \"Description\": \"Middle Eastern Bread\",\n",
            "        \"Spice\": \"none\",\n",
            "        \"Prep Time\": \"Prep 20 mins\",\n",
            "        \"Views\": 6638,\n",
            "        \"Rating\": 5.0,\n",
            "        \"Number of Votes\": NaN,\n",
            "        \"Serves\": 4.0,\n",
            "        \"Dietary Info\": [\n",
            "            \"VEGETARIAN\"\n",
            "        ],\n",
            "        \"Cook Time\": \" 5 mins\",\n",
            "        \"Ingredients\": \"1) 250g brown flour\\n2) 1 tsp ajwain (carom seeds)\\n3) 1 tsp salt\\n4) 7g instant yeast\\n5) 2 tsp rapeseed oil\\n6) 160ml water\\n7) Extra flour for dusting\\n\",\n",
            "        \"Instructions\": \"1) Tip the flour into the mixing bowl of your stand mixer with the dough hook attached and add the ajwain, salt to one side and the yeast to the other.\\n2) Add the oil and 120ml of the water and start to mix. Add the remaining water a little at a time until you have a soft, sticky dough (you may not need all the water).\\n3) With a little oil knead the dough for 5-10 minutes. The dough will become less sticky and start to feel smooth.\\n4) Lightly oil a bowl and place the dough in the bowl, cover and leave in a warm room until it doubles in size approx. 1-2 hours.\\n5) Heat the oven to 220\\u00baC, and place a baking tray in the centre to heat up. You can also use a baking stone if you have one.\\n6) Dust your worktop with flour and knock back the dough and kneed for a few mintues until it's soft.\\n7) Divide it into 6 equal portions and then shape each one into a ball. Flatten with your fingertips and start to roll it out into an oval shape that's about 1cm thick.\\n8) Take the hot tray out of the oven, dust with flour and lay the pittas on it.\\n9) Bake for 5- 10 minutes until they puff up and just start to brown.\\n10) Immediatly, wrap them in a clean tea towel. This traps in the steam and keeps them lovely and soft, and leave to cool.\\n\",\n",
            "        \"dish_features\": \"{'Spice': 'none', 'Dietary Info': \\\"['VEGETARIAN']\\\", 'Rating': 'high', 'Serves': 'medium'}\"\n",
            "    },\n",
            "    {\n",
            "        \"Dish Name\": \"Kati Egg Roll with Basmati & Quinoa\",\n",
            "        \"Description\": \"Spiced rice tucked into a kati egg roll\",\n",
            "        \"Spice\": \"mild\",\n",
            "        \"Prep Time\": \"Prep 35 mins\",\n",
            "        \"Views\": 7405,\n",
            "        \"Rating\": 5.0,\n",
            "        \"Number of Votes\": 3.0,\n",
            "        \"Serves\": 4.0,\n",
            "        \"Dietary Info\": [\n",
            "            \"HEALTHY\"\n",
            "        ],\n",
            "        \"Cook Time\": \" 10 mins\",\n",
            "        \"Ingredients\": \"1) 100g\\u00a0Brown Basmati rice (or use left over rice)\\n2) 20g Quinoa\\n3) 1 tbsp Rapeseed oil\\n4) 1 tsp cumin seeds\\n5) 1 onion, sliced\\n6) 1 clove of garlic, chopped\\n7) 4 mushrooms, chopped\\n8) \\u00bd tsp salt\\n9) 1 fresh green chilli, chopped\\n10) 2 tomatoes, chopped\\n11) Handful of spinach\\n12) Large pinch of coriander\\n13) 1 tsp garam masala\\n14) 2 tsp chaat masala\\n15) 100g grated paneer\\n\",\n",
            "        \"Instructions\": \"1) Wash the quinoa and rice then add to a pan of boiling water simmer gently for 25 minutes.\\n2) Drain well and cover for a few minutes.\\n3) Heat oil in a pan and add the cumin seeds until the sizzle. Stir in the sliced onion and cook for 2-3 minutes until translucent then add the garlic and cook for 3-4 minutes.\\n4) Add the chopped mushrooms and cook for a few minutes with salt and chilli.\\n5) Add the tomatoes and cook to a paste before adding the spinach.\\n6) Stir in the cooked rice and add 1 tsp of garam masala, the chopped coriander and the paneer. Check the seasoning and set to one side.\\n7) Heat a non-stick frying pan and add the oil.\\n8) Whisk the eggs in a wide bowl and add garam masala, chilli powder and salt.\\n9) Dip in one tortiila wrap and place into the frying pan on a gentle heat and cook until crisp.\\n10) Gently place the wrap onto a plate and fill with the cooked rice and roll it up. Serve with pickle and yoghurt.\\n\",\n",
            "        \"dish_features\": \"{'Spice': 'mild', 'Dietary Info': \\\"['HEALTHY']\\\", 'Rating': 'high', 'Serves': 'medium'}\"\n",
            "    },\n",
            "    {\n",
            "        \"Dish Name\": \"Power Salad Jar\",\n",
            "        \"Description\": \"Spiced Salad Jar\",\n",
            "        \"Spice\": \"mild\",\n",
            "        \"Prep Time\": \"Prep 10 mins\",\n",
            "        \"Views\": 9798,\n",
            "        \"Rating\": 5.0,\n",
            "        \"Number of Votes\": NaN,\n",
            "        \"Serves\": 4.0,\n",
            "        \"Dietary Info\": [\n",
            "            \"HEALTHY\"\n",
            "        ],\n",
            "        \"Cook Time\": \" 30 mins\",\n",
            "        \"Ingredients\": \"1) 100g wild rice, cooked\\n2) 1 tbsp rapeseed oil\\n3) 1 small onion\\n4) 1 tsp mustard seeds\\n5) 1 tsp cumin seeds\\n6) 2 cloves garlic\\n7) 2 chicken breasts, sliced (you can use cooked chicken too)\\n8) 1 tsp salt\\n9) 1 tsp turmeric\\n10) \\u00bd tsp Kashmiri chilli powder\\n11) 3 cm ginger, grated\\n12) 1 green chilli finely chopped\\n\",\n",
            "        \"Instructions\": \"1) Heat the oven to 180\\u00baC\\n2) Coat the diced butternut squash in a little oil and a sprinkle of cumin seeds and chilli.\\n3) Bake for 25 minutes until soft and charred. Remove and cool.\\n4) At the same time coat the kale in a sprinkle of oil with some cumin and cook in the oven for 10 minutes until crisp \\u2013 do not let it brown too much.Remove and leave to cool.\\n5) Cook the rice as per the instructions on the pack.\\n6) Heat oil in a pan and add the mustard and cumin seeds until they sizzle and become fragrant.\\n7) Add the onion and cook until translucent and add the garlic. Saut\\u00e9 for 3-4 minutes.\\n8) Add the sliced chicken and stir for 3-4 minutes.\\n9) Add the salt, turmeric and chilli powder with the ginger and chilli and continue to cook. You can add a little splash of water if it feels too dry. Once the chicken is cooked through (about 5-6 minutes), remove from the heat and check the seasoning. Stir in the cooked rice. Leave to cool.\\n10) Toast the walnuts in a dry frying pan for about 3-4 minutes, until golden. Cool, then roughly crush in a pestle and mortar.\\n11) Heat a griddle and sear the avocado slices until charred.\\n12) Build your salad with the butternut squash, chicken mixture, the griddled avocado, the crispy kale and sprinkle over the crushed toasted walnuts.\\n13) Mix together all the dressing ingredients in a jar and pour over the salad.\\n\",\n",
            "        \"dish_features\": \"{'Spice': 'mild', 'Dietary Info': \\\"['HEALTHY']\\\", 'Rating': 'high', 'Serves': 'medium'}\"\n",
            "    },\n",
            "    {\n",
            "        \"Dish Name\": \"Spiced Pumpkin Seeds\",\n",
            "        \"Description\": \"Roasted Pumpkin Seeds\",\n",
            "        \"Spice\": \"medium\",\n",
            "        \"Prep Time\": \"Prep 10 mins\",\n",
            "        \"Views\": 7643,\n",
            "        \"Rating\": 5.0,\n",
            "        \"Number of Votes\": 5.0,\n",
            "        \"Serves\": 4.0,\n",
            "        \"Dietary Info\": [\n",
            "            \"VEGETARIAN\"\n",
            "        ],\n",
            "        \"Cook Time\": \" 20 mins\",\n",
            "        \"Ingredients\": \"1) Seeds from one pumpkin\\n2) 1 tsp salt\\n3) 1 tsp chilli flakes\\n4) 1-2 tsp rapeseed oil\\n\",\n",
            "        \"Instructions\": \"1) Pull out the seeds from the pumpkin and place into a bowl with water.\\n2) Wash the seeds in a few changes of water to get rid of all the stringy flesh.\\n3) Place in a colander and leave to strain.\\n4) Place some kitchen roll on a baking sheet and put the seeds on it so they dry. You can leave them overnight.\\n5) Heat your oven to 180\\u00baC\\n6) Spread the seeds on an oven tray and pour the oil over the seeds. Rub them so they are coated with the oil. Sprinkle with the salt and chilli flakes.\\n7) Roast in the oven for 10 minutes until they are golden brown.\\n8) Remove and leave to cool. Store in an air tight jar and use as and when required.\\n\",\n",
            "        \"dish_features\": \"{'Spice': 'medium', 'Dietary Info': \\\"['VEGETARIAN']\\\", 'Rating': 'high', 'Serves': 'medium'}\"\n",
            "    },\n",
            "    {\n",
            "        \"Dish Name\": \"Saag Walee Roti\",\n",
            "        \"Description\": \"Unleavened Spinach Flatbread\",\n",
            "        \"Spice\": \"none\",\n",
            "        \"Prep Time\": \"Prep 25 mins\",\n",
            "        \"Views\": 11661,\n",
            "        \"Rating\": 4.9,\n",
            "        \"Number of Votes\": 10.0,\n",
            "        \"Serves\": 6.0,\n",
            "        \"Dietary Info\": [\n",
            "            \"VEGETARIAN\"\n",
            "        ],\n",
            "        \"Cook Time\": \" 5 mins\",\n",
            "        \"Ingredients\": \"1) 260g chakki atta or atta flour (half wholemeal and half plain works as well)\\n2) \\u00bd tsp salt\\n3) 2 tsp oil\\n4) 50g big handful of spinach\\n5) 100ml warm milk\\n\",\n",
            "        \"Instructions\": \"1) Heat water in a pan and add spinach. Blanch and remove the spinach, and then rinse under cold water.\\n2) Place in a blender and add the milk. Blitz to a puree and set to one side.\\n3) Mix flour, salt and oil together. Pour in the spinach and milk puree a little at a time and knead to a soft dough. Cover with a tea towel and set to one side for 20 minutes.\\n\",\n",
            "        \"dish_features\": \"{'Spice': 'none', 'Dietary Info': \\\"['VEGETARIAN']\\\", 'Rating': 'high', 'Serves': 'high'}\"\n",
            "    }\n",
            "]\n"
          ]
        }
      ]
    },
    {
      "cell_type": "code",
      "source": [
        "# Assuming top_dishes_df is already populated with the top dishes data\n",
        "# Convert DataFrame to JSON\n",
        "top_dishes_json = top_dishes_df.to_json(orient='records', lines=False)\n",
        "\n",
        "# Print or save the JSON output\n",
        "print(top_dishes_json)\n",
        "\n",
        "# Example: Save to a JSON file\n",
        "with open('top_dishes.json', 'w') as f:\n",
        "    f.write(top_dishes_json)\n"
      ],
      "metadata": {
        "colab": {
          "base_uri": "https://localhost:8080/"
        },
        "id": "EO7HsruEDchv",
        "outputId": "76f7d973-0584-4eb7-b610-66c9c3bc88b3"
      },
      "execution_count": 58,
      "outputs": [
        {
          "output_type": "stream",
          "name": "stdout",
          "text": [
            "[{\"Dish Name\":\"Pitta Bread with Carom Seeds\",\"Description\":\"Middle Eastern Bread\",\"Spice\":\"none\",\"Prep Time\":\"Prep 20 mins\",\"Views\":6638,\"Rating\":5.0,\"Number of Votes\":null,\"Serves\":4.0,\"Dietary Info\":[\"VEGETARIAN\"],\"Cook Time\":\" 5 mins\",\"Ingredients\":\"1) 250g brown flour\\n2) 1 tsp ajwain (carom seeds)\\n3) 1 tsp salt\\n4) 7g instant yeast\\n5) 2 tsp rapeseed oil\\n6) 160ml water\\n7) Extra flour for dusting\\n\",\"Instructions\":\"1) Tip the flour into the mixing bowl of your stand mixer with the dough hook attached and add the ajwain, salt to one side and the yeast to the other.\\n2) Add the oil and 120ml of the water and start to mix. Add the remaining water a little at a time until you have a soft, sticky dough (you may not need all the water).\\n3) With a little oil knead the dough for 5-10 minutes. The dough will become less sticky and start to feel smooth.\\n4) Lightly oil a bowl and place the dough in the bowl, cover and leave in a warm room until it doubles in size approx. 1-2 hours.\\n5) Heat the oven to 220\\u00baC, and place a baking tray in the centre to heat up. You can also use a baking stone if you have one.\\n6) Dust your worktop with flour and knock back the dough and kneed for a few mintues until it's soft.\\n7) Divide it into 6 equal portions and then shape each one into a ball. Flatten with your fingertips and start to roll it out into an oval shape that's about 1cm thick.\\n8) Take the hot tray out of the oven, dust with flour and lay the pittas on it.\\n9) Bake for 5- 10 minutes until they puff up and just start to brown.\\n10) Immediatly, wrap them in a clean tea towel. This traps in the steam and keeps them lovely and soft, and leave to cool.\\n\",\"dish_features\":\"{'Spice': 'none', 'Dietary Info': \\\"['VEGETARIAN']\\\", 'Rating': 'high', 'Serves': 'medium'}\"},{\"Dish Name\":\"Kati Egg Roll with Basmati & Quinoa\",\"Description\":\"Spiced rice tucked into a kati egg roll\",\"Spice\":\"mild\",\"Prep Time\":\"Prep 35 mins\",\"Views\":7405,\"Rating\":5.0,\"Number of Votes\":3.0,\"Serves\":4.0,\"Dietary Info\":[\"HEALTHY\"],\"Cook Time\":\" 10 mins\",\"Ingredients\":\"1) 100g\\u00a0Brown Basmati rice (or use left over rice)\\n2) 20g Quinoa\\n3) 1 tbsp Rapeseed oil\\n4) 1 tsp cumin seeds\\n5) 1 onion, sliced\\n6) 1 clove of garlic, chopped\\n7) 4 mushrooms, chopped\\n8) \\u00bd tsp salt\\n9) 1 fresh green chilli, chopped\\n10) 2 tomatoes, chopped\\n11) Handful of spinach\\n12) Large pinch of coriander\\n13) 1 tsp garam masala\\n14) 2 tsp chaat masala\\n15) 100g grated paneer\\n\",\"Instructions\":\"1) Wash the quinoa and rice then add to a pan of boiling water simmer gently for 25 minutes.\\n2) Drain well and cover for a few minutes.\\n3) Heat oil in a pan and add the cumin seeds until the sizzle. Stir in the sliced onion and cook for 2-3 minutes until translucent then add the garlic and cook for 3-4 minutes.\\n4) Add the chopped mushrooms and cook for a few minutes with salt and chilli.\\n5) Add the tomatoes and cook to a paste before adding the spinach.\\n6) Stir in the cooked rice and add 1 tsp of garam masala, the chopped coriander and the paneer. Check the seasoning and set to one side.\\n7) Heat a non-stick frying pan and add the oil.\\n8) Whisk the eggs in a wide bowl and add garam masala, chilli powder and salt.\\n9) Dip in one tortiila wrap and place into the frying pan on a gentle heat and cook until crisp.\\n10) Gently place the wrap onto a plate and fill with the cooked rice and roll it up. Serve with pickle and yoghurt.\\n\",\"dish_features\":\"{'Spice': 'mild', 'Dietary Info': \\\"['HEALTHY']\\\", 'Rating': 'high', 'Serves': 'medium'}\"},{\"Dish Name\":\"Power Salad Jar\",\"Description\":\"Spiced Salad Jar\",\"Spice\":\"mild\",\"Prep Time\":\"Prep 10 mins\",\"Views\":9798,\"Rating\":5.0,\"Number of Votes\":null,\"Serves\":4.0,\"Dietary Info\":[\"HEALTHY\"],\"Cook Time\":\" 30 mins\",\"Ingredients\":\"1) 100g wild rice, cooked\\n2) 1 tbsp rapeseed oil\\n3) 1 small onion\\n4) 1 tsp mustard seeds\\n5) 1 tsp cumin seeds\\n6) 2 cloves garlic\\n7) 2 chicken breasts, sliced (you can use cooked chicken too)\\n8) 1 tsp salt\\n9) 1 tsp turmeric\\n10) \\u00bd tsp Kashmiri chilli powder\\n11) 3 cm ginger, grated\\n12) 1 green chilli finely chopped\\n\",\"Instructions\":\"1) Heat the oven to 180\\u00baC\\n2) Coat the diced butternut squash in a little oil and a sprinkle of cumin seeds and chilli.\\n3) Bake for 25 minutes until soft and charred. Remove and cool.\\n4) At the same time coat the kale in a sprinkle of oil with some cumin and cook in the oven for 10 minutes until crisp \\u2013 do not let it brown too much.Remove and leave to cool.\\n5) Cook the rice as per the instructions on the pack.\\n6) Heat oil in a pan and add the mustard and cumin seeds until they sizzle and become fragrant.\\n7) Add the onion and cook until translucent and add the garlic. Saut\\u00e9 for 3-4 minutes.\\n8) Add the sliced chicken and stir for 3-4 minutes.\\n9) Add the salt, turmeric and chilli powder with the ginger and chilli and continue to cook. You can add a little splash of water if it feels too dry. Once the chicken is cooked through (about 5-6 minutes), remove from the heat and check the seasoning. Stir in the cooked rice. Leave to cool.\\n10) Toast the walnuts in a dry frying pan for about 3-4 minutes, until golden. Cool, then roughly crush in a pestle and mortar.\\n11) Heat a griddle and sear the avocado slices until charred.\\n12) Build your salad with the butternut squash, chicken mixture, the griddled avocado, the crispy kale and sprinkle over the crushed toasted walnuts.\\n13) Mix together all the dressing ingredients in a jar and pour over the salad.\\n\",\"dish_features\":\"{'Spice': 'mild', 'Dietary Info': \\\"['HEALTHY']\\\", 'Rating': 'high', 'Serves': 'medium'}\"},{\"Dish Name\":\"Spiced Pumpkin Seeds\",\"Description\":\"Roasted Pumpkin Seeds\",\"Spice\":\"medium\",\"Prep Time\":\"Prep 10 mins\",\"Views\":7643,\"Rating\":5.0,\"Number of Votes\":5.0,\"Serves\":4.0,\"Dietary Info\":[\"VEGETARIAN\"],\"Cook Time\":\" 20 mins\",\"Ingredients\":\"1) Seeds from one pumpkin\\n2) 1 tsp salt\\n3) 1 tsp chilli flakes\\n4) 1-2 tsp rapeseed oil\\n\",\"Instructions\":\"1) Pull out the seeds from the pumpkin and place into a bowl with water.\\n2) Wash the seeds in a few changes of water to get rid of all the stringy flesh.\\n3) Place in a colander and leave to strain.\\n4) Place some kitchen roll on a baking sheet and put the seeds on it so they dry. You can leave them overnight.\\n5) Heat your oven to 180\\u00baC\\n6) Spread the seeds on an oven tray and pour the oil over the seeds. Rub them so they are coated with the oil. Sprinkle with the salt and chilli flakes.\\n7) Roast in the oven for 10 minutes until they are golden brown.\\n8) Remove and leave to cool. Store in an air tight jar and use as and when required.\\n\",\"dish_features\":\"{'Spice': 'medium', 'Dietary Info': \\\"['VEGETARIAN']\\\", 'Rating': 'high', 'Serves': 'medium'}\"},{\"Dish Name\":\"Saag Walee Roti\",\"Description\":\"Unleavened Spinach Flatbread\",\"Spice\":\"none\",\"Prep Time\":\"Prep 25 mins\",\"Views\":11661,\"Rating\":4.9,\"Number of Votes\":10.0,\"Serves\":6.0,\"Dietary Info\":[\"VEGETARIAN\"],\"Cook Time\":\" 5 mins\",\"Ingredients\":\"1) 260g chakki atta or atta flour (half wholemeal and half plain works as well)\\n2) \\u00bd tsp salt\\n3) 2 tsp oil\\n4) 50g big handful of spinach\\n5) 100ml warm milk\\n\",\"Instructions\":\"1) Heat water in a pan and add spinach. Blanch and remove the spinach, and then rinse under cold water.\\n2) Place in a blender and add the milk. Blitz to a puree and set to one side.\\n3) Mix flour, salt and oil together. Pour in the spinach and milk puree a little at a time and knead to a soft dough. Cover with a tea towel and set to one side for 20 minutes.\\n\",\"dish_features\":\"{'Spice': 'none', 'Dietary Info': \\\"['VEGETARIAN']\\\", 'Rating': 'high', 'Serves': 'high'}\"}]\n"
          ]
        }
      ]
    },
    {
      "cell_type": "code",
      "source": [
        "# Define user requirements as a string\n",
        "user_req_string = \"{'Spice': 'mild', 'Dietary Info': 'vegetarian', 'Rating': 'high', 'Serves': 'medium'}\"\n"
      ],
      "metadata": {
        "id": "N8KjD7hSGcPB"
      },
      "execution_count": 66,
      "outputs": []
    },
    {
      "cell_type": "code",
      "source": [
        "# Assuming mappings dictionary is defined somewhere in your script or notebook\n",
        "mappings = {\n",
        "    'none': 0,\n",
        "    'mild': 1,\n",
        "    'medium': 2,\n",
        "    'high': 3,\n",
        "    'low': 1,\n",
        "    'Vegetarian' : 1,\n",
        "    'Vegan' : 2,\n",
        "    'Contains Nuts' : 3,\n",
        "    'Lactose-Free' : 4\n",
        "}\n",
        "\n",
        "def compare_dishes_with_user(user_req_string, mappings):\n",
        "    # Extract user requirements\n",
        "    user_requirements = extract_dictionary_from_string(user_req_string)\n",
        "\n",
        "    # Initialize the 'Score' column in the DataFrame to 0\n",
        "    dish_df['Score'] = 0\n",
        "\n",
        "    for index, row in dish_df.iterrows():\n",
        "        score = 0\n",
        "        # Adjust the score based on each user requirement\n",
        "        for key, user_value in user_requirements.items():\n",
        "            if key.lower() == 'spice':\n",
        "                dish_value = str(row['Spice']).lower() if isinstance(row['Spice'], str) else str(row['Spice'])\n",
        "            elif key.lower() == 'rating':\n",
        "                dish_value = str(row['Rating']).lower() if isinstance(row['Rating'], str) else str(row['Rating'])\n",
        "            elif key.lower() == 'serves':\n",
        "                dish_value = str(row['Serves']).lower() if isinstance(row['Serves'], str) else str(row['Serves'])\n",
        "            elif key.lower() == 'dietary info':\n",
        "                # Check if user_value is in the Dietary Info list\n",
        "                if user_value.lower() in [diet.lower() for diet in row['Dietary Info']]:\n",
        "                    score += 1\n",
        "                continue  # Skip scoring for Dietary Info as it's handled separately\n",
        "            else:\n",
        "                dish_value = ''\n",
        "\n",
        "            # For spice, rating, and serves, use mappings to compare\n",
        "            dish_mapping = mappings.get(dish_value, -1)\n",
        "            user_mapping = mappings.get(user_value.lower(), -1)\n",
        "\n",
        "            if dish_mapping >= user_mapping:\n",
        "                score += 1\n",
        "\n",
        "        dish_df.loc[index, 'Score'] = score\n",
        "\n",
        "    # Sort dishes by score in descending order and return the top 3 dishes\n",
        "    top_dishes = dish_df.sort_values('Score', ascending=False).head(3)\n",
        "    return top_dishes.to_dict(orient='records')\n",
        "\n",
        "def format_dishes_info(dishes):\n",
        "    if not dishes:\n",
        "        return \"No dishes found matching the criteria.\"\n",
        "\n",
        "    formatted_info = []\n",
        "    for idx, dish in enumerate(dishes, start=1):\n",
        "        formatted_info.append(f\"{idx}. {dish['Dish Name']} : {dish['Description']}, Score: {dish['Score']}\")\n",
        "    return '\\n'.join(formatted_info)\n",
        "\n",
        "# Example usage assuming 'user_req_string' is defined elsewhere\n",
        "user_req_string = \"{'Spice': 'mild', 'Dietary Info': 'Vegetarian', 'Rating': 'high', 'Serves': 'medium'}\"\n",
        "top_dishes = compare_dishes_with_user(user_req_string, mappings)\n",
        "formatted_info = format_dishes_info(top_dishes)\n",
        "print(formatted_info)\n"
      ],
      "metadata": {
        "colab": {
          "base_uri": "https://localhost:8080/"
        },
        "id": "D_2eoiQbJei_",
        "outputId": "b0994e76-5af6-454e-d894-26281177f988"
      },
      "execution_count": 82,
      "outputs": [
        {
          "output_type": "stream",
          "name": "stdout",
          "text": [
            "1. Zhoug : Middle Eastern Coriander Dip, Score: 2\n",
            "2. Smoked Bangun Partha : Aubergine Pate, Score: 2\n",
            "3. Sarson Ka Saag : Puréed Mustard Greens, Score: 2\n"
          ]
        }
      ]
    },
    {
      "cell_type": "code",
      "source": [
        "def initialize_conv_reco(dishes_info):\n",
        "    system_message = f\"\"\"\n",
        "    You are a culinary expert tasked with providing recommendations and answering queries about various dishes in the recipe catalog:\n",
        "    {dishes_info}\n",
        "    \"\"\"\n",
        "    conversation = [{\"role\": \"system\", \"content\": system_message}]\n",
        "    return conversation\n"
      ],
      "metadata": {
        "id": "1-pqrZwnqvHA"
      },
      "execution_count": 83,
      "outputs": []
    },
    {
      "cell_type": "code",
      "source": [
        "# Example usage:\n",
        "dishes_info = \"This is a catalog of delicious recipes featuring a variety of cuisines.\"\n",
        "conversation = initialize_conv_reco(dishes_info)\n",
        "\n",
        "# Print or use the conversation\n",
        "print(conversation)\n"
      ],
      "metadata": {
        "id": "ksT8CNDMzOXR",
        "colab": {
          "base_uri": "https://localhost:8080/"
        },
        "outputId": "16325699-70db-4a64-a56e-a15bdba856a0"
      },
      "execution_count": 84,
      "outputs": [
        {
          "output_type": "stream",
          "name": "stdout",
          "text": [
            "[{'role': 'system', 'content': '\\n    You are a culinary expert tasked with providing recommendations and answering queries about various dishes in the recipe catalog:\\n    This is a catalog of delicious recipes featuring a variety of cuisines.\\n    '}]\n"
          ]
        }
      ]
    },
    {
      "cell_type": "code",
      "source": [
        " #Call initialize_conv_reco with appropriate message\n",
        "dishes_info = \"\"\"\n",
        "Welcome to our recipe catalog! We offer a diverse range of dishes from various cuisines, including healthy options, vegetarian recipes, and more.\n",
        "Our catalog includes dishes that cater to different dietary needs, such as lactose-free and nut-free options.\n",
        "Feel free to explore and ask for recommendations based on your preferences!\n",
        "\"\"\"\n",
        "conversation = initialize_conv_reco(dishes_info)\n",
        "\n",
        "# Step 3: Assuming 'formatted_info' is already generated from 'compare_dishes_with_user'\n",
        "formatted_info = \"\"\"\n",
        "1. Zhoug : Middle Eastern Coriander Dip, Score: 2\n",
        "2. Smoked Bangun Partha : Aubergine Pate, Score: 2\n",
        "3. Sarson Ka Saag : Puréed Mustard Greens, Score: 2\n",
        "\"\"\"\n",
        "\n",
        "# Step 4: Display the initial conversation context (system message)\n",
        "for message in conversation:\n",
        "    print(message['content'])\n",
        "\n",
        "# Step 5: Display the formatted information (top recommended dishes)\n",
        "print(\"\\nTop Recommended Dishes:\\n\")\n",
        "print(formatted_info)"
      ],
      "metadata": {
        "id": "Wfmna16gzOZZ",
        "colab": {
          "base_uri": "https://localhost:8080/"
        },
        "outputId": "9e542393-be31-4d6f-e18a-9de7dc7e6357"
      },
      "execution_count": 85,
      "outputs": [
        {
          "output_type": "stream",
          "name": "stdout",
          "text": [
            "\n",
            "    You are a culinary expert tasked with providing recommendations and answering queries about various dishes in the recipe catalog:\n",
            "    \n",
            "Welcome to our recipe catalog! We offer a diverse range of dishes from various cuisines, including healthy options, vegetarian recipes, and more.\n",
            "Our catalog includes dishes that cater to different dietary needs, such as lactose-free and nut-free options.\n",
            "Feel free to explore and ask for recommendations based on your preferences!\n",
            "\n",
            "    \n",
            "\n",
            "Top Recommended Dishes:\n",
            "\n",
            "\n",
            "1. Zhoug : Middle Eastern Coriander Dip, Score: 2\n",
            "2. Smoked Bangun Partha : Aubergine Pate, Score: 2\n",
            "3. Sarson Ka Saag : Puréed Mustard Greens, Score: 2\n",
            "\n"
          ]
        }
      ]
    },
    {
      "cell_type": "markdown",
      "source": [
        "Now that you have the compare_laptops_with_user() function ready, let's pass the response_dict_n to the function to get top 3 recommendation."
      ],
      "metadata": {
        "id": "L4hJARtC1HkN"
      }
    },
    {
      "cell_type": "code",
      "source": [
        "import json\n",
        "\n",
        "def recommendation_validation(dish_recommendation):\n",
        "    try:\n",
        "        # Load the JSON data into a Python list of dictionaries\n",
        "        data = json.loads(dish_recommendation)\n",
        "\n",
        "        # Initialize an empty list to store valid recommendations\n",
        "        valid_recommendations = []\n",
        "\n",
        "        # Iterate through each dish recommendation\n",
        "        for dish in data:\n",
        "            # Ensure 'Score' key exists and is a numeric value\n",
        "            if 'Score' in dish and isinstance(dish['Score'], (int, float)):\n",
        "                # Check if the 'Score' of the dish is greater than 2 (adjust threshold as needed)\n",
        "                if dish['Score'] > 2:\n",
        "                    valid_recommendations.append(dish)\n",
        "            else:\n",
        "                print(f\"Issue with dish recommendation: {dish}. Skipping.\")\n",
        "\n",
        "        return valid_recommendations\n",
        "\n",
        "    except json.JSONDecodeError as e:\n",
        "        print(f\"Error decoding JSON: {e}\")\n",
        "        return []\n",
        "    except Exception as e:\n",
        "        print(f\"Error in recommendation_validation function: {e}\")\n",
        "        return []\n"
      ],
      "metadata": {
        "id": "Nn90wDalLF1g"
      },
      "execution_count": 86,
      "outputs": []
    },
    {
      "cell_type": "code",
      "source": [
        "# Example dish recommendations (JSON string)\n",
        "dish_recommendation = '[{\"Dish Name\": \"Pistachio Chicken\", \"Score\": 3}, {\"Dish Name\": \"Tangy Fried Okra\", \"Score\": 2}, {\"Dish Name\": \"Healthy Chicken Korma\", \"Score\": 4}]'\n",
        "\n",
        "# Call the function to validate and filter recommendations\n",
        "valid_dish_recommendations = recommendation_validation(dish_recommendation)\n",
        "\n",
        "# Print the valid recommendations\n",
        "print(\"Valid Recommendations:\")\n",
        "for idx, dish in enumerate(valid_dish_recommendations, start=1):\n",
        "    print(f\"{idx}. {dish['Dish Name']}, Score: {dish['Score']}\")"
      ],
      "metadata": {
        "colab": {
          "base_uri": "https://localhost:8080/"
        },
        "id": "Fw5i_6TnLF7g",
        "outputId": "22d73f9c-47aa-4e3e-f90c-82dbae602ac3"
      },
      "execution_count": 87,
      "outputs": [
        {
          "output_type": "stream",
          "name": "stdout",
          "text": [
            "Valid Recommendations:\n",
            "1. Pistachio Chicken, Score: 3\n",
            "2. Healthy Chicken Korma, Score: 4\n"
          ]
        }
      ]
    },
    {
      "cell_type": "code",
      "source": [
        "# Example top 3 dishes recommendation JSON string\n",
        "top_3_dishes = '[{\"Dish Name\": \"Pistachio Chicken\", \"Score\": 3}, {\"Dish Name\": \"Healthy Chicken Korma\", \"Score\": 4}, {\"Dish Name\": \"Tangy Fried Okra\", \"Score\": 2}]'\n",
        "\n",
        "# Validate and filter dish recommendations\n",
        "validated_data = recommendation_validation(top_3_dishes)\n",
        "\n",
        "# Print validated dish recommendations\n",
        "print(\"Validated Dish Recommendations:\")\n",
        "for idx, dish in enumerate(validated_data, start=1):\n",
        "    print(f\"{idx}. {dish['Dish Name']}, Score: {dish['Score']}\")"
      ],
      "metadata": {
        "colab": {
          "base_uri": "https://localhost:8080/"
        },
        "id": "GPjTbccSLr9Y",
        "outputId": "d5253e82-e17c-4a79-d99a-37e369d70075"
      },
      "execution_count": 88,
      "outputs": [
        {
          "output_type": "stream",
          "name": "stdout",
          "text": [
            "Validated Dish Recommendations:\n",
            "1. Pistachio Chicken, Score: 3\n",
            "2. Healthy Chicken Korma, Score: 4\n"
          ]
        }
      ]
    },
    {
      "cell_type": "code",
      "source": [
        "len(validated_data)"
      ],
      "metadata": {
        "id": "LTfXofVa1GUS",
        "colab": {
          "base_uri": "https://localhost:8080/"
        },
        "outputId": "9813def7-4d3c-44b3-fac6-0b51b3485be4"
      },
      "execution_count": 90,
      "outputs": [
        {
          "output_type": "execute_result",
          "data": {
            "text/plain": [
              "2"
            ]
          },
          "metadata": {},
          "execution_count": 90
        }
      ]
    },
    {
      "cell_type": "code",
      "source": [
        "def initialize_conversation():\n",
        "    return [{\"role\": \"system\", \"content\": \"You are now chatting with a culinary expert.\"}]\n",
        "\n",
        "def get_chat_model_completions(conversation):\n",
        "    # Placeholder: Use a natural language model to generate responses based on conversation\n",
        "    return \"This is a placeholder response based on the conversation.\"\n",
        "\n",
        "def moderation_check(message):\n",
        "    # Placeholder: Implement moderation logic here (e.g., check for inappropriate content)\n",
        "    return \"Not Flagged\"  # or \"Flagged\" based on moderation logic\n",
        "\n",
        "def intent_confirmation_layer(response):\n",
        "    # Placeholder: Implement intent confirmation logic based on response\n",
        "    return \"Yes\"  # or \"No\" based on intent confirmation logic\n",
        "\n",
        "def dictionary_present(response):\n",
        "    # Placeholder: Process structured data received during the conversation\n",
        "    return \"Processed dictionary\"\n"
      ],
      "metadata": {
        "id": "7UTOZp3lMIZL"
      },
      "execution_count": 91,
      "outputs": []
    },
    {
      "cell_type": "markdown",
      "source": [
        "Finally, we come to the product recommendation layer. It takes the output from the compare_laptops_with_user function in the previous layer and provides the recommendations to the user."
      ],
      "metadata": {
        "id": "1gQL32BM5ReF"
      }
    },
    {
      "cell_type": "code",
      "source": [
        "import json\n",
        "\n",
        "# Example corrected JSON string (assuming you fix the original JSON string):\n",
        "top_3_dishes_json = '''\n",
        "[\n",
        "    {\n",
        "        \"Dish Name\": \"Piri Piri Sauce\",\n",
        "        \"Description\": \"Hot Pepper Sauce\",\n",
        "        \"Spice\": \"hot\",\n",
        "        \"Prep Time\": \"Prep 5 mins\",\n",
        "        \"Views\": 43207,\n",
        "        \"Rating\": 4.1,\n",
        "        \"Number of Votes\": 13.0,\n",
        "        \"Serves\": null,\n",
        "        \"Dietary Info\": \"[\\'LACTOSE-FREE\\']\",\n",
        "        \"Cook Time\": \" 10 mins\",\n",
        "        \"Ingredients\": \"1) 5-10 fresh red chillies, depending on how hot you want it\\\\n2) 2 dried smoked red chillies\\\\n3) 2 garlic cloves, roughly chopped\\\\n4) 1 tsp rock salt\\\\n5) ½ tsp oregano\\\\n6) ½ tbsp smoked paprika\\\\n7) 150ml olive oil\\\\n8) 100ml red wine vinegar\\\\n\",\n",
        "        \"Instructions\": \"1) Preheat the oven to 180°C and put all the chillies onto a roasting tray and roast them for 10 minutes.\\\\n2) Roughly chop the garlic and blanch in hot water for about 4 minutes.\\\\n3) Once roasted let the chillies cool and roughly chop them (use gloves and then wash your hands afterwards).\\\\n4) Place the chillies, blanched garlic, salt, oregano, paprika, olive oil and vinegar into a small saucepan, and bring to the boil then leave to simmer for about 2-3 minutes.\\\\n5) Once the mixture has cooled blend everything so it\\'s the consistency of a fine pouring sauce. Store in a tight jar at room temperature. It will keep for about a month. Shake before using.\\\\n\",\n",
        "        \"Score\": 4\n",
        "    },\n",
        "    {\n",
        "        \"Dish Name\": \"Pistachio Chicken\",\n",
        "        \"Description\": \"Mild chicken in a creamy pistachio sauce\",\n",
        "        \"Spice\": \"mild\",\n",
        "        \"Prep Time\": \"Prep 10 mins\",\n",
        "        \"Views\": 11604,\n",
        "        \"Rating\": 4.1,\n",
        "        \"Number of Votes\": 18.0,\n",
        "        \"Serves\": 4.0,\n",
        "        \"Dietary Info\": \"[\\'CONTAINS-NUTS\\']\",\n",
        "        \"Cook Time\": \" 30 mins\",\n",
        "        \"Ingredients\": \"1) 600g chicken thighs, cut into chunks\\\\n2) 100g Pistachios, blanched\\\\n3) 1 medium onion, chopped finely\\\\n4) 7cm piece ginger, roughly chopped\\\\n5) 2-3 green chillies 6 garlic cloves\\\\n6) ½ small bunch of fresh coriander leaves\\\\n7) 200g yoghurt ½ tsp turmeric powder\\\\n8) Salt to taste\\\\n9) 2 tbsp ghee\\\\n10) 2 cloves\\\\n11) 15 black peppercorns\\\\n12) 4 green cardamoms, cracked\\\\n13) 1 bay leaf\\\\n14) 2 inch cassia bark\\\\n15) 1 tsp cumin seeds\\\\n16) Fresh cream for garnish\\\\n17) Fresh coriander to garnish<\\\\/li>\\\\n\",\n",
        "        \"Instructions\": \"1) Boil enough water to cover the pistachios, add them and blanch for about 5 minutes.\\\\n2) Drain and put them into cold water so they stay green.\\\\n3) Squish them in your fingers to remove the skins. Discard the skin and place the pistachios in a bowl for later.\\\\n4) Put the chicken in a large bowl and add yoghurt, turmeric powder, salt and mix well.\\\\n5) Heat ghee and add cloves, black peppercorns, green cardamoms, bay leaf and cassia and sauté until fragrant. Add minced onion and and cook to soften for 5-10 minutes.\\\\n6) Add ginger, green chillies, garlic and sauté until soft. Stir in the pistachios and stil for 2-3 minutes. Remove the pan from the heat and let it cool for a while.\\\\n7) Remove the bay leaf and cassia bark. Pour into a large jug and add a handful of fresh coriander leaves and about 130 ml of water and with a stick blender and blitz to a fine purée.\\\\n8) In the same pan heat a tbsp of ghee and add cumin seeds until they sizzle and put the cassia and bay back to the pan. Add the marinated chicken and sauté on high heat for 3-4 minutes.\\\\n9) Pour in the blended pistachio paste with some salt and mix well. Cover the pan and cook for 25 minutes, stirring occasionally until cooked through.\\\\n10) Transfer into a serving bowl. Garnish with fresh cream, coriander and slivers of pistachios.\\\\n\",\n",
        "        \"Score\": 2\n",
        "    },\n",
        "    {\n",
        "        \"Dish Name\": \"Radish and Lemon Salad\",\n",
        "        \"Description\": \"A Healthy and Crunchy Mooli Salad\",\n",
        "        \"Spice\": \"medium\",\n",
        "        \"Prep Time\": \"Prep 10 mins\",\n",
        "        \"Views\": 49854,\n",
        "        \"Rating\": 3.3,\n",
        "        \"Number of Votes\": 26.0,\n",
        "        \"Serves\": 4.0,\n",
        "        \"Dietary Info\": \"[\\'VEGETARIAN\\']\",\n",
        "        \"Cook Time\": null,\n",
        "        \"Ingredients\": \"1) 10-12 radishes\\\\n2) 1 handful coriander leaves\\\\n3) ½ green chilli\\\\n4) 1 tsp cumin seeds\\\\n5) 2cm piece ginger, grated\\\\n6) 1 lemon\\\\n7) Salt to taste\\\\n8) splash of olive oil (optional)\\\\n\",\n",
        "        \"Instructions\": \"1) Finely slice the radishes and place them into a bowl\\\\n2) Chop the coriander leaves and chilli and add to the bowl\\\\n3) Toast the cumin seeds in a dry pan until you can smell their aroma then crush the seeds in a pestle and mortar. Sprinkle into the same bowl with the radish.\\\\n4) Grate in the ginger, and squeeze in the lemon juice (and oil if using).\\\\n5) Sprinkle in a little salt and mix everything together.\\\\n\",\n",
        "        \"Score\": 2\n",
        "    }\n",
        "]\n",
        "'''\n",
        "\n",
        "# Parse the JSON string into a Python object (list of dictionaries)\n",
        "try:\n",
        "    top_3_dishes = json.loads(top_3_dishes_json)\n",
        "except json.JSONDecodeError as e:\n",
        "    print(f\"Error decoding JSON: {e}\")\n",
        "    # Optionally, print the problematic part of the JSON string for debugging\n",
        "    print(f\"Problematic part of JSON: {top_3_dishes_json[e.pos:e.pos+10]}\")\n",
        "\n",
        "# Function to format dish information from a list of dictionaries\n",
        "def format_dishes_info(dishes):\n",
        "    formatted_info = []\n",
        "    for idx, dish in enumerate(dishes, start=1):\n",
        "        formatted_info.append(f\"{idx}. {dish['Dish Name']} : {dish['Description']}, Score: {dish['Score']}\")\n",
        "    return '\\n'.join(formatted_info)\n",
        "\n",
        "# Example usage to generate formatted string and initialize conversation reco\n",
        "formatted_dishes_info = format_dishes_info(top_3_dishes)\n",
        "debug_conversation_reco = initialize_conversation()\n",
        "print(debug_conversation_reco)\n"
      ],
      "metadata": {
        "colab": {
          "base_uri": "https://localhost:8080/"
        },
        "id": "aTfGwMOAMtpM",
        "outputId": "287d8a36-2018-448c-c146-4fad2d248bec"
      },
      "execution_count": 92,
      "outputs": [
        {
          "output_type": "stream",
          "name": "stdout",
          "text": [
            "[{'role': 'system', 'content': 'You are now chatting with a culinary expert.'}]\n"
          ]
        }
      ]
    },
    {
      "cell_type": "code",
      "source": [
        "# Assuming response_dict_n is a dictionary containing user profile information\n",
        "response_dict_n = {\"name\": \"John Doe\", \"age\": 30, \"location\": \"New York\"}\n",
        "\n",
        "# Append user profile information to conversation reco\n",
        "debug_conversation_reco.append({\"role\": \"user\", \"content\": \"This is my user profile: \" + json.dumps(response_dict_n, indent=4)})\n",
        "\n",
        "# Assuming debug_recommendation is a string containing debug recommendations\n",
        "debug_recommendation = \"Here are some debug recommendations.\"\n",
        "\n",
        "# Append assistant's debug recommendations to conversation reco\n",
        "debug_conversation_reco.append({\"role\": \"assistant\", \"content\": debug_recommendation})\n",
        "\n",
        "# Print or inspect the updated conversation reco\n",
        "print(debug_conversation_reco)"
      ],
      "metadata": {
        "colab": {
          "base_uri": "https://localhost:8080/"
        },
        "id": "QxhzOpEaNFk2",
        "outputId": "0c9d1e90-5cc4-420f-b40f-436e0b2efcc9"
      },
      "execution_count": 93,
      "outputs": [
        {
          "output_type": "stream",
          "name": "stdout",
          "text": [
            "[{'role': 'system', 'content': 'You are now chatting with a culinary expert.'}, {'role': 'user', 'content': 'This is my user profile: {\\n    \"name\": \"John Doe\",\\n    \"age\": 30,\\n    \"location\": \"New York\"\\n}'}, {'role': 'assistant', 'content': 'Here are some debug recommendations.'}]\n"
          ]
        }
      ]
    },
    {
      "cell_type": "code",
      "source": [
        "# Assuming debug_user_input is a string containing user input\n",
        "debug_user_input = \"Can you recommend a dish for dinner?\"\n",
        "\n",
        "# Append user input to conversation reco\n",
        "debug_conversation_reco.append({\"role\": \"user\", \"content\": debug_user_input})\n",
        "\n",
        "# Get assistant's response based on the updated conversation reco\n",
        "debug_response_asst_reco = get_chat_model_completions(debug_conversation_reco)\n",
        "\n",
        "# Print or display the assistant's response\n",
        "print('\\n' + debug_response_asst_reco + '\\n')\n"
      ],
      "metadata": {
        "colab": {
          "base_uri": "https://localhost:8080/"
        },
        "id": "GbTa2SVQNUtP",
        "outputId": "14d1cade-8c49-4ece-aaeb-5c080f8fbccd"
      },
      "execution_count": 94,
      "outputs": [
        {
          "output_type": "stream",
          "name": "stdout",
          "text": [
            "\n",
            "This is a placeholder response based on the conversation.\n",
            "\n"
          ]
        }
      ]
    },
    {
      "cell_type": "code",
      "source": [
        "# lets have an example\n",
        "def get_chat_model_completions(conversation):\n",
        "    # Placeholder logic: iterate through conversation and generate responses\n",
        "    responses = []\n",
        "    for msg in conversation:\n",
        "        role = msg.get('role')\n",
        "        content = msg.get('content')\n",
        "        if role == 'user':\n",
        "            responses.append({\"role\": \"assistant\", \"content\": f\"Sure! Here's a recommendation based on '{content}'\"})\n",
        "        elif role == 'assistant':\n",
        "            responses.append({\"role\": \"assistant\", \"content\": \"I'm here to assist you further.\"})\n",
        "        else:\n",
        "            responses.append({\"role\": \"assistant\", \"content\": \"I'm sorry, I couldn't understand that.\"})\n",
        "    return responses\n",
        "\n",
        "# Assuming debug_user_input is a string containing user input\n",
        "debug_user_input = \"Can you recommend a dish for dinner?\"\n",
        "\n",
        "# Append user input to conversation reco\n",
        "debug_conversation_reco.append({\"role\": \"user\", \"content\": debug_user_input})\n",
        "\n",
        "# Get assistant's response based on the updated conversation reco\n",
        "debug_response_asst_reco = get_chat_model_completions(debug_conversation_reco)\n",
        "\n",
        "# Print or display the assistant's response\n",
        "for resp in debug_response_asst_reco:\n",
        "    print(f\"{resp['role']}: {resp['content']}\")\n"
      ],
      "metadata": {
        "colab": {
          "base_uri": "https://localhost:8080/"
        },
        "id": "1RVIrn3-NgPu",
        "outputId": "06c44f0f-9ad4-4922-e24b-de5f7282a505"
      },
      "execution_count": 95,
      "outputs": [
        {
          "output_type": "stream",
          "name": "stdout",
          "text": [
            "assistant: I'm sorry, I couldn't understand that.\n",
            "assistant: Sure! Here's a recommendation based on 'This is my user profile: {\n",
            "    \"name\": \"John Doe\",\n",
            "    \"age\": 30,\n",
            "    \"location\": \"New York\"\n",
            "}'\n",
            "assistant: I'm here to assist you further.\n",
            "assistant: Sure! Here's a recommendation based on 'Can you recommend a dish for dinner?'\n",
            "assistant: Sure! Here's a recommendation based on 'Can you recommend a dish for dinner?'\n"
          ]
        }
      ]
    },
    {
      "cell_type": "markdown",
      "source": [
        "**dialogue** **management** **system**"
      ],
      "metadata": {
        "id": "B0F_VVz1_4d3"
      }
    },
    {
      "cell_type": "code",
      "source": [
        "import json\n",
        "\n",
        "# Placeholder functions - replace with actual implementations\n",
        "def initialize_conversation():\n",
        "    return [{\"role\": \"system\", \"content\": \"You are now chatting with a culinary expert.\"}]\n",
        "\n",
        "def get_chat_model_completions(conversation):\n",
        "    # Placeholder logic to generate completion based on conversation\n",
        "    completion = \"This is a placeholder response based on the conversation.\"\n",
        "    return completion\n",
        "\n",
        "def moderation_check(message):\n",
        "    return \"Not Flagged\"  # Placeholder logic\n",
        "\n",
        "def intent_confirmation_layer(response):\n",
        "    return \"Yes\"  # Placeholder logic\n",
        "\n",
        "def dictionary_present(response):\n",
        "    return \"Processed dictionary\"  # Placeholder logic\n",
        "\n",
        "def compare_dishes_with_user(user_req_string):\n",
        "    # Placeholder logic to simulate dish comparison based on user requirements\n",
        "    top_3_dishes = [\n",
        "        {\"Dish Name\": \"Pistachio Chicken\", \"Description\": \"Mild chicken in a creamy pistachio sauce\", \"Score\": 3},\n",
        "        {\"Dish Name\": \"Healthy Chicken Korma\", \"Description\": \"Healthy version of chicken korma\", \"Score\": 4},\n",
        "        {\"Dish Name\": \"Tangy Fried Okra\", \"Description\": \"Crispy okra with a tangy twist\", \"Score\": 2}\n",
        "    ]\n",
        "    return json.dumps(top_3_dishes)  # Return JSON string for simulation\n",
        "\n",
        "def recommendation_validation(dish_recommendation):\n",
        "    # Load the JSON data into a Python list of dictionaries\n",
        "    data = json.loads(dish_recommendation)\n",
        "\n",
        "    # Initialize an empty list to store valid recommendations\n",
        "    valid_recommendations = []\n",
        "\n",
        "    # Iterate through each dish recommendation\n",
        "    for dish in data:\n",
        "        # Check if the 'Score' of the dish is greater than 2 (adjust threshold as needed)\n",
        "        if dish.get('Score', 0) > 2:\n",
        "            valid_recommendations.append(dish)\n",
        "\n",
        "    return valid_recommendations\n",
        "\n",
        "def format_dishes_info(dishes):\n",
        "    formatted_info = []\n",
        "    for idx, dish in enumerate(dishes, start=1):\n",
        "        formatted_info.append(f\"{idx}. {dish['Dish Name']} : {dish['Description']}, Score: {dish['Score']}\")\n",
        "    return '\\n'.join(formatted_info)\n",
        "\n",
        "def initialize_conv_reco(dishes_info):\n",
        "    system_message = f\"\"\"\n",
        "    You are a culinary expert tasked with providing recommendations and answering queries about various dishes in the recipe catalog:\n",
        "    {dishes_info}\n",
        "    \"\"\"\n",
        "    conversation = [{\"role\": \"system\", \"content\": system_message}]\n",
        "    return conversation\n",
        "\n",
        "def dialogue_mgmt_system():\n",
        "    conversation = initialize_conversation()\n",
        "    introduction = get_chat_model_completions(conversation)\n",
        "    print(introduction + '\\n')\n",
        "\n",
        "    top_3_dishes = None\n",
        "    user_input = ''\n",
        "\n",
        "    while user_input.lower() != \"exit\":\n",
        "        user_input = input(\"User: \")\n",
        "\n",
        "        # Check if user input is flagged for moderation\n",
        "        moderation = moderation_check(user_input)\n",
        "        if moderation == 'Flagged':\n",
        "            print(\"Sorry, this message has been flagged. Please restart your conversation.\")\n",
        "            break\n",
        "\n",
        "        # Initialize conversation if top 3 dishes haven't been retrieved yet\n",
        "        if top_3_dishes is None:\n",
        "            conversation.append({\"role\": \"user\", \"content\": user_input})\n",
        "\n",
        "            # Get assistant's response based on user input\n",
        "            response_assistant = get_chat_model_completions(conversation)\n",
        "\n",
        "            # Check if assistant's response is flagged for moderation\n",
        "            moderation = moderation_check(response_assistant)\n",
        "            if moderation == 'Flagged':\n",
        "                print(\"Sorry, this message has been flagged. Please restart your conversation.\")\n",
        "                break\n",
        "\n",
        "            # Confirm intent of assistant's response\n",
        "            confirmation = intent_confirmation_layer(response_assistant)\n",
        "\n",
        "            # Check if confirmation is flagged for moderation\n",
        "            moderation = moderation_check(confirmation)\n",
        "            if moderation == 'Flagged':\n",
        "                print(\"Sorry, this message has been flagged. Please restart your conversation.\")\n",
        "                break\n",
        "\n",
        "            # Process based on user confirmation\n",
        "            if \"No\" in confirmation:\n",
        "                conversation.append({\"role\": \"assistant\", \"content\": response_assistant})\n",
        "                print(\"\\nAssistant: \" + response_assistant + \"\\n\")\n",
        "                print('Assistant: ' + confirmation + '\\n')\n",
        "            else:\n",
        "                print(\"\\nAssistant: \" + response_assistant + \"\\n\")\n",
        "                print('Assistant: ' + confirmation + '\\n')\n",
        "                response = dictionary_present(response_assistant)\n",
        "\n",
        "                # Check if response is flagged for moderation\n",
        "                moderation = moderation_check(response)\n",
        "                if moderation == 'Flagged':\n",
        "                    print(\"Sorry, this message has been flagged. Please restart your conversation.\")\n",
        "                    break\n",
        "\n",
        "                print('Assistant: ' + response + '\\n')\n",
        "                print(\"Assistant: Thank you for providing all the information. Kindly wait, while I fetch the dishes.\\n\")\n",
        "                top_3_dishes_json = compare_dishes_with_user(response)\n",
        "\n",
        "                # Parse the JSON string into a Python object (list of dictionaries)\n",
        "                top_3_dishes = json.loads(top_3_dishes_json)\n",
        "\n",
        "                # Validate and filter dish recommendations\n",
        "                validated_reco = recommendation_validation(top_3_dishes)\n",
        "\n",
        "                if len(validated_reco) == 0:\n",
        "                    print(\"Assistant: Sorry, we do not have dishes that match your requirements. Connecting you to a human expert.\")\n",
        "                    break\n",
        "\n",
        "                # Format dishes information for display\n",
        "                formatted_dishes_info = format_dishes_info(validated_reco)\n",
        "                conversation_reco = initialize_conv_reco(formatted_dishes_info)\n",
        "                recommendation = get_chat_model_completions(conversation_reco)\n",
        "\n",
        "                # Check if recommendation is flagged for moderation\n",
        "                moderation = moderation_check(recommendation)\n",
        "                if moderation == 'Flagged':\n",
        "                    print(\"Sorry, this message has been flagged. Please restart your conversation.\")\n",
        "                    break\n",
        "\n",
        "                # Append user profile information to conversation reco\n",
        "                conversation_reco.append({\"role\": \"user\", \"content\": \"This is my user profile\" + response})\n",
        "                conversation_reco.append({\"role\": \"assistant\", \"content\": recommendation})\n",
        "\n",
        "                # Print assistant's recommendation\n",
        "                print(\"Assistant: \" + recommendation + '\\n')\n",
        "\n",
        "        else:\n",
        "            # Append user input to ongoing conversation reco\n",
        "            conversation_reco.append({\"role\": \"user\", \"content\": user_input})\n",
        "\n",
        "            # Get assistant's response based on ongoing conversation reco\n",
        "            response_asst_reco = get_chat_model_completions(conversation_reco)\n",
        "\n",
        "            # Check if assistant's response is flagged for moderation\n",
        "            moderation = moderation_check(response_asst_reco)\n",
        "            if moderation == 'Flagged':\n",
        "                print(\"Sorry, this message has been flagged. Please restart your conversation.\")\n",
        "                break\n",
        "\n",
        "            # Print assistant's response\n",
        "            print('\\nAssistant: ' + response_asst_reco + '\\n')\n",
        "\n",
        "            # Append assistant's response to ongoing conversation\n",
        "            conversation.append({\"role\": \"assistant\", \"content\": response_asst_reco})"
      ],
      "metadata": {
        "id": "9S7QzJnyOzrW"
      },
      "execution_count": 99,
      "outputs": []
    },
    {
      "cell_type": "code",
      "source": [
        "# Example usage of dialogue management system\n",
        "#dialogue_mgmt_system()"
      ],
      "metadata": {
        "id": "lIJxEwmnWwGK"
      },
      "execution_count": null,
      "outputs": []
    },
    {
      "cell_type": "code",
      "source": [
        "# Predefined conversation between user and assistant regarding dish recommendations\n",
        "dish_conversation = [\n",
        "    {\"role\": \"assistant\", \"content\": \"Hi there! I'm an expert in culinary delights and I'm here to help you find the best dishes based on your preferences. Please tell me a little bit about your taste preferences and dietary requirements so that I can assist you better.\"},\n",
        "    {\"role\": \"user\", \"content\": \"Yes, I prefer mild spices and vegetarian options.\"},\n",
        "    {\"role\": \"assistant\", \"content\": \"Thank you for letting me know. Based on your preference for mild spices and vegetarian options, I would recommend dishes that are flavorful yet not too spicy. Now, I have a question to better understand your needs. Are you looking for quick recipes or are you open to dishes that take a bit longer to prepare?\"},\n",
        "    {\"role\": \"user\", \"content\": \"I prefer quick recipes.\"},\n",
        "    {\"role\": \"assistant\", \"content\": \"Thank you for providing that information. Since you prefer quick recipes, I'll focus on dishes that are easy and quick to prepare. Now, I have one more question to help me understand your preferences better. Could you kindly let me know if you have any specific dietary restrictions or allergies?\"},\n",
        "    {\"role\": \"user\", \"content\": \"I'm lactose intolerant.\"}\n",
        "]\n",
        "\n",
        "# Initialize conversation and extend it with the predefined conversation\n",
        "dish_conversation_initialize = initialize_conversation()\n",
        "dish_conversation_initialize.extend(dish_conversation)\n",
        "\n",
        "# Simulate assistant's response to the extended conversation\n",
        "dish_conversation_assistant_output = get_chat_model_completions(dish_conversation_initialize)\n",
        "\n",
        "# Process the assistant's response to extract relevant information\n",
        "dish_response_dict = dictionary_present(dish_conversation_assistant_output)\n",
        "dish_dict = extract_dictionary_from_string(dish_response_dict)\n",
        "\n",
        "# Print or further process the extracted dictionary\n",
        "print(dish_dict)\n"
      ],
      "metadata": {
        "colab": {
          "base_uri": "https://localhost:8080/"
        },
        "id": "z6GBmndkSr2c",
        "outputId": "4d303eaa-01ac-4086-924f-bddd229a2fb2"
      },
      "execution_count": 101,
      "outputs": [
        {
          "output_type": "stream",
          "name": "stdout",
          "text": [
            "No dictionary found in the input string.\n",
            "{}\n"
          ]
        }
      ]
    },
    {
      "cell_type": "markdown",
      "source": [
        "**evaluation**"
      ],
      "metadata": {
        "id": "PLcrlnVhZVyE"
      }
    },
    {
      "cell_type": "code",
      "source": [
        "def evaluate_model_response(tagged_dict, model_dict):\n",
        "    score = 0\n",
        "\n",
        "    # Define mapping for features with ordinal preferences\n",
        "    mappings = {\n",
        "        'spiciness': {'low': 0, 'medium': 1, 'high': 2},\n",
        "        'calorie_level': {'low': 0, 'medium': 1, 'high': 2},\n",
        "        'preparation_time': {'low': 0, 'medium': 1, 'high': 2},  # Assume this for illustration\n",
        "        'complexity': {'simple': 0, 'medium': 1, 'complex': 2}    # Assume this for illustration\n",
        "    }\n",
        "\n",
        "    for feature, mapping in mappings.items():\n",
        "        tagged_value = tagged_dict.get(feature)\n",
        "        model_value = model_dict.get(feature)\n",
        "\n",
        "        if tagged_value is not None and model_value is not None:\n",
        "            tagged_mapping = mapping.get(tagged_value, -1)\n",
        "            model_mapping = mapping.get(model_value, -1)\n",
        "\n",
        "            if model_mapping >= tagged_mapping:\n",
        "                score += 1\n",
        "\n",
        "    return score\n",
        "\n",
        "# Example usage with sample data\n",
        "tagged_preferences = {\n",
        "    'spiciness': 'medium',          # User prefers medium spiciness\n",
        "    'calorie_level': 'low',         # User prefers low calorie\n",
        "    'preparation_time': 'medium',    # User prefers medium preparation time\n",
        "    'complexity': 'simple'          # User prefers simple complexity\n",
        "}\n",
        "\n",
        "model_recommendations = {\n",
        "    'spiciness': 'low',             # Model recommends low spiciness\n",
        "    'calorie_level': 'low',         # Model recommends low calorie\n",
        "    'preparation_time': 'low',      # Model recommends low preparation time\n",
        "    'complexity': 'medium'          # Model recommends medium complexity\n",
        "}\n",
        "\n",
        "score = evaluate_model_response(tagged_preferences, model_recommendations)\n",
        "print(f\"Score: {score}\")\n",
        "\n",
        "# Checking if the snippet is implemented correctly\n",
        "expected_score = 2  # Adjust based on your expected outcome\n",
        "\n",
        "if score == expected_score:\n",
        "    print(\"Snippet implemented correctly.\")\n",
        "else:\n",
        "    print(\"Snippet not implemented correctly.\")\n"
      ],
      "metadata": {
        "colab": {
          "base_uri": "https://localhost:8080/"
        },
        "id": "txbykQauXv1T",
        "outputId": "f1693157-c59a-4d46-b272-109d5277a6c2"
      },
      "execution_count": 105,
      "outputs": [
        {
          "output_type": "stream",
          "name": "stdout",
          "text": [
            "Score: 2\n",
            "Snippet implemented correctly.\n"
          ]
        }
      ]
    },
    {
      "cell_type": "markdown",
      "source": [
        "Future scope of Work\n",
        "- We can use other features to get healthy recipe or other kind as per user requirement\n",
        "- can use function calling api for output format\n",
        "- As an alternative & simple solution, you can use vector embeddings of each product and compare it with the user intent to find the most relevant recipe.\n",
        "- you can template this workflow/solution to build a chatbot for any product domain."
      ],
      "metadata": {
        "id": "LTZuUp_bZjhp"
      }
    },
    {
      "cell_type": "code",
      "source": [],
      "metadata": {
        "id": "5zUxgZXIaJ2i"
      },
      "execution_count": null,
      "outputs": []
    }
  ],
  "metadata": {
    "colab": {
      "provenance": []
    },
    "kernelspec": {
      "display_name": "Python 3",
      "name": "python3"
    },
    "language_info": {
      "name": "python"
    }
  },
  "nbformat": 4,
  "nbformat_minor": 0
}